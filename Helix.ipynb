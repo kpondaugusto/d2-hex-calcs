{
 "cells": [
  {
   "cell_type": "markdown",
   "metadata": {},
   "source": [
    "# UCN LD2 Calculations: Helical Groove\n",
    "\n",
    "K. Augusto\n",
    "\n",
    "June 1/20"
   ]
  },
  {
   "cell_type": "code",
   "execution_count": 2,
   "metadata": {},
   "outputs": [],
   "source": [
    "#!/usr/bin/python3\n",
    "\n",
    "from math import *\n",
    "\n",
    "from mpl_toolkits import mplot3d\n",
    "\n",
    "from mpl_toolkits import mplot3d\n",
    "import matplotlib.pyplot as plt\n",
    "import matplotlib.patches as patches\n",
    "import numpy as np\n",
    "from numpy import *"
   ]
  },
  {
   "cell_type": "markdown",
   "metadata": {},
   "source": [
    "Parameters:\n",
    "\n",
    "Pressure = 20 psi\n",
    "\n",
    "Temperature in = T$_{in}$ = 23.4 K\n",
    "\n",
    "Temperature of the wall = T$_w$ = 20.7 K \n",
    "\n",
    "Mass flow rate = $\\dot{m}$ = 0.004 kg/s\n",
    "\n",
    "Thermal conductivity = $\\mu$ = 3.5$\\times10^{-5}$ Pa s\n",
    "\n",
    "Length of HEX = L = 10 in = 0.254 m \n",
    "\n",
    "Density of D2 = $\\rho$ = 163 kg/m$^3$ \n",
    "\n",
    "Specific heat = C$_p$ = 6565.4 J/(kg K)\n",
    "\n",
    "Number of grooves = N = 1\n",
    "\n",
    "Diameter of tube before groove(s) cut = D = 4.76 in = 0.1209 m \n",
    "\n",
    "Width of groove(s) = w' = 0.01 m \n",
    "\n",
    "Width between groove(s) = u' = 0.01 m \n",
    "\n",
    "Depth of groove(s) = depth = 0.01 m \n"
   ]
  },
  {
   "cell_type": "code",
   "execution_count": 19,
   "metadata": {},
   "outputs": [
    {
     "name": "stdout",
     "output_type": "stream",
     "text": [
      "The pitch angle is 0.052655\n"
     ]
    }
   ],
   "source": [
    "p_psi=20. # PSI\n",
    "p=p_psi*6894.76 # Pa\n",
    "kt=0.104 # W/(m*K) a\n",
    "T=Tin=23.4 # (K) inlet temp\n",
    "Tw=20.7 # (K) temperature of cold wall\n",
    "mdot=0.004 # kg/s\n",
    "mu=3.5e-5 # Pa*s\n",
    "L=10*0.0254 #m length of tube\n",
    "rho=163.0 # kg/m^3\n",
    "Cp=6565.4 # J/(kg*K)\n",
    "Ngrooves=1 # number of grooves where it was found that the optimal groove is 1\n",
    "D=4.76*0.0254 #m diameter of tube, 0.015949 from optimizing dp in backwards-hex-turbulent-tube.py\n",
    "wprime= 0.01 #m width of groove\n",
    "uprime= 0.01 # m width between grooves\n",
    "depth=0.01 # m depth of groove\n",
    "\n",
    "sinalpha=(Ngrooves*(wprime + uprime))/(pi*D) #pitch angle\n",
    "\n",
    "alpha=arcsin(sinalpha)\n",
    "\n",
    "print('The pitch angle is %f' %sinalpha)"
   ]
  },
  {
   "cell_type": "code",
   "execution_count": 5,
   "metadata": {},
   "outputs": [
    {
     "name": "stdout",
     "output_type": "stream",
     "text": [
      "The length of the groove is 4.823855 m.\n",
      "Coiling around a Cu rod of diameter 0.120904 m would require 12.700000 turns\n"
     ]
    }
   ],
   "source": [
    "Lprime=L/sinalpha #m length of wound groove\n",
    "\n",
    "print('The length of the groove is %f m.' %Lprime)\n",
    "\n",
    "turns=Lprime/(pi*D)\n",
    "\n",
    "print('Coiling around a Cu rod of diameter %f m would require %f turns'%(D,turns))"
   ]
  },
  {
   "cell_type": "markdown",
   "metadata": {},
   "source": [
    "The flow area of the helical fin is found from:\n",
    "\n",
    "\\begin{equation}\n",
    "A = Nw'depth\n",
    "\\end{equation}\n",
    "\n",
    "The flow perimeter of the helical fin is found from:\n",
    "\n",
    "\\begin{equation}\n",
    "P = 2N(depth + w')\n",
    "\\end{equation}"
   ]
  },
  {
   "cell_type": "code",
   "execution_count": 6,
   "metadata": {},
   "outputs": [
    {
     "name": "stdout",
     "output_type": "stream",
     "text": [
      "The area of the helical fins is 0.000100 m^2.\n",
      "The perimeter of the helical grooves is 0.040000 m.\n"
     ]
    }
   ],
   "source": [
    "w=wprime*tan(alpha) # m\n",
    "\n",
    "ahelix=Ngrooves*wprime*depth # m^2 area of one helical groove/fin thing\n",
    "\n",
    "print('The area of the helical fins is %f m^2.'%ahelix)\n",
    "\n",
    "phelix=Ngrooves*(2*depth+2*wprime) #m\n",
    "\n",
    "print('The perimeter of the helical grooves is %f m.' %phelix)"
   ]
  },
  {
   "cell_type": "markdown",
   "metadata": {},
   "source": [
    "The hydraluic diameter is found from:\n",
    "\n",
    "\\begin{equation}\n",
    "D_h = \\frac{4A}{P}\n",
    "\\end{equation}\n",
    "\n",
    "The Mass flux per unit area is found from:\n",
    "\n",
    "\\begin{equation}\n",
    "G = \\frac{\\dot{m}}{A}\n",
    "\\end{equation}"
   ]
  },
  {
   "cell_type": "code",
   "execution_count": 20,
   "metadata": {},
   "outputs": [
    {
     "name": "stdout",
     "output_type": "stream",
     "text": [
      "Hydraulic diameter 0.010000 m\n",
      "\n",
      "Mass flux per unit area is 40.000000 kg/(m^2*s)\n"
     ]
    }
   ],
   "source": [
    "Dh=4*ahelix/phelix #m\n",
    "\n",
    "print('Hydraulic diameter %f m'%Dh)\n",
    "print()\n",
    "\n",
    "G=mdot/ahelix # (kg/(m^2*s)) mass flow rate per unit area\n",
    "\n",
    "print('Mass flux per unit area is %f kg/(m^2*s)'%G)"
   ]
  },
  {
   "cell_type": "markdown",
   "metadata": {},
   "source": [
    "The Reynolds Number is found from:\n",
    "\n",
    "\\begin{equation}\n",
    "Re = \\frac{D_hG}{\\mu}\n",
    "\\end{equation}"
   ]
  },
  {
   "cell_type": "code",
   "execution_count": 8,
   "metadata": {},
   "outputs": [
    {
     "name": "stdout",
     "output_type": "stream",
     "text": [
      "The Reynolds number is 11428.571429\n"
     ]
    }
   ],
   "source": [
    "Re=Dh*G/mu # should be dimensionless\n",
    "print('The Reynolds number is %f'%Re)"
   ]
  },
  {
   "cell_type": "markdown",
   "metadata": {},
   "source": [
    "The friction factor is found from:\n",
    "\n",
    "\\begin{equation}\n",
    "f = 0.316Re^{(-1/4)}\n",
    "\\end{equation}"
   ]
  },
  {
   "cell_type": "code",
   "execution_count": 9,
   "metadata": {},
   "outputs": [
    {
     "name": "stdout",
     "output_type": "stream",
     "text": [
      "The turbulent friction factor is 0.030563.\n"
     ]
    }
   ],
   "source": [
    "fRe=24.00*4\n",
    "\n",
    "if Re < 2300 :\n",
    "    f=fRe/Re\n",
    "    #f=64/Re #assuming cicular tube\n",
    "    print('The laminar friction factor is %f.' %f)\n",
    "elif 3500 > Re > 2300 :\n",
    "    f=1.2036*Re**(-0.416) #from vijayan\n",
    "    print('The friction factor is in between laminar and turbulent')\n",
    "elif Re > 3500 :\n",
    "    f=0.316*Re**(-0.25)\n",
    "    print('The turbulent friction factor is %f.' %f)"
   ]
  },
  {
   "cell_type": "markdown",
   "metadata": {},
   "source": [
    "The Colburn factor is found from:\n",
    "\n",
    "\\begin{equation}\n",
    "jH = 0.023Re^{-1/5}B_1\n",
    "\\end{equation}"
   ]
  },
  {
   "cell_type": "code",
   "execution_count": 10,
   "metadata": {},
   "outputs": [
    {
     "name": "stdout",
     "output_type": "stream",
     "text": [
      "This is B1 1.174891.\n",
      "The Colburn factor for the turbulent flow is 0.004170.\n"
     ]
    }
   ],
   "source": [
    "B1=1.174*((3.7e-5)/(3.68e-5))**(0.14) #viscosity taken from cams sheets\n",
    "print('This is B1 %f.' %B1)\n",
    "\n",
    "if Re < 3500 :\n",
    "    print('It is laminar or in between')\n",
    "elif Re > 3500 :\n",
    "    jh=0.023*Re**(-0.2)*B1\n",
    "    print('The Colburn factor for the turbulent flow is %f.' %jh)"
   ]
  },
  {
   "cell_type": "markdown",
   "metadata": {},
   "source": [
    "The Prandelt Number is found from:\n",
    "\n",
    "\\begin{equation}\n",
    "Pr = \\frac{\\mu C_p}{k_t}\n",
    "\\end{equation}"
   ]
  },
  {
   "cell_type": "code",
   "execution_count": 14,
   "metadata": {},
   "outputs": [
    {
     "name": "stdout",
     "output_type": "stream",
     "text": [
      "The Prandtl Number is 2.209510.\n"
     ]
    }
   ],
   "source": [
    "Pr=(mu*Cp)/(kt) # yes still dimensionless\n",
    "\n",
    "print('The Prandtl Number is %f.'%Pr)"
   ]
  },
  {
   "cell_type": "markdown",
   "metadata": {},
   "source": [
    "The Nusselt Number is found from:\n",
    "\n",
    "\\begin{equation}\n",
    "Nu = jHRePr^{1/3}\n",
    "\\end{equation}"
   ]
  },
  {
   "cell_type": "code",
   "execution_count": 15,
   "metadata": {},
   "outputs": [
    {
     "name": "stdout",
     "output_type": "stream",
     "text": [
      "This is the turbulent Nusselt Number 62.070370.\n",
      "\n"
     ]
    }
   ],
   "source": [
    "if Re < 3500 :\n",
    "    Nu=4.8608\n",
    "    print('Nu=4.8608 because the flow is laminar')\n",
    "elif Re > 3500 :\n",
    "    Nuturb=jh*Re*Pr**(1./3.)\n",
    "    print('This is the turbulent Nusselt Number %f.' %Nuturb)\n",
    "    \n",
    "print()"
   ]
  },
  {
   "cell_type": "markdown",
   "metadata": {},
   "source": [
    "The heat transfer coefficient is found from:\n",
    "\n",
    "\\begin{equation}\n",
    "hc = \\frac{Nuk_t}{D_h}\n",
    "\\end{equation}"
   ]
  },
  {
   "cell_type": "code",
   "execution_count": 16,
   "metadata": {},
   "outputs": [
    {
     "name": "stdout",
     "output_type": "stream",
     "text": [
      "The heat transfer coefficient for turbulent flow is 645.531850 W/(m^2*K)\n"
     ]
    }
   ],
   "source": [
    "if Re < 3500 :\n",
    "    hc=Nu*kt/Dh # Barron eq'n 6.15\n",
    "    print('The heat transfer coefficient for laminar flow is %f W/(m^2*K)'%hc)\n",
    "elif Re > 3500 :\n",
    "    hc=Nuturb*kt/Dh # Barron eq'n 6.17 makes it incredibly tiny compared to eq'n 6.15 maybe should be using eq'n 6.40 ??\n",
    "    print('The heat transfer coefficient for turbulent flow is %f W/(m^2*K)'%hc)"
   ]
  },
  {
   "cell_type": "markdown",
   "metadata": {},
   "source": [
    "The pressure drop is found from:\n",
    "\n",
    "\\begin{equation}\n",
    "\\Delta P = \\frac{fLG^2}{2D_h\\rho} \\\\\n",
    "\\end{equation}"
   ]
  },
  {
   "cell_type": "code",
   "execution_count": 17,
   "metadata": {},
   "outputs": [
    {
     "name": "stdout",
     "output_type": "stream",
     "text": [
      "The pressure drop is 3.810002 Pa\n"
     ]
    }
   ],
   "source": [
    "dp=(f*L*G**2)/(Dh*2*rho) # (Pa) pressure drop\n",
    "\n",
    "print('The pressure drop is %f Pa'%dp)"
   ]
  },
  {
   "cell_type": "code",
   "execution_count": null,
   "metadata": {},
   "outputs": [],
   "source": []
  }
 ],
 "metadata": {
  "kernelspec": {
   "display_name": "Python 3",
   "language": "python",
   "name": "python3"
  },
  "language_info": {
   "codemirror_mode": {
    "name": "ipython",
    "version": 3
   },
   "file_extension": ".py",
   "mimetype": "text/x-python",
   "name": "python",
   "nbconvert_exporter": "python",
   "pygments_lexer": "ipython3",
   "version": "3.7.4"
  }
 },
 "nbformat": 4,
 "nbformat_minor": 2
}
