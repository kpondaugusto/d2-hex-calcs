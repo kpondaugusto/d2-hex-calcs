{
 "cells": [
  {
   "cell_type": "markdown",
   "metadata": {},
   "source": [
    "# UCN LD2 Calculations: Helical Groove\n",
    "\n",
    "K. Augusto, J. Martin\n",
    "\n",
    "June 1/20\n",
    "\n",
    "Calculates the performance of a helical groove heat exchanger in the steady state operation of the LD2 thermosyphon using helical groove correlations for one groove."
   ]
  },
  {
   "cell_type": "code",
   "execution_count": 1,
   "metadata": {},
   "outputs": [],
   "source": [
    "#!/usr/bin/python3.7\n",
    "from math import *\n",
    "from mpl_toolkits import mplot3d\n",
    "from mpl_toolkits.mplot3d import Axes3D\n",
    "import matplotlib.pyplot as plt\n",
    "import matplotlib.patches as patches\n",
    "import numpy as np\n",
    "from numpy import *"
   ]
  },
  {
   "cell_type": "code",
   "execution_count": 2,
   "metadata": {},
   "outputs": [
    {
     "name": "stdout",
     "output_type": "stream",
     "text": [
      "The pitch angle is 0.131637\n",
      "Alpha is 0.132021\n",
      "The length of the groove is 1.929542 m.\n",
      "Coiling around a Cu rod of diameter 0.120904 m would require 5.080000 turns\n",
      "The area of the helical fins is 0.000450 m^2.\n",
      "The perimeter of the helical grooves is 0.120000 m.\n",
      "Hydraulic diameter 0.015000 m\n",
      "Mass flux per area (G) is 8.888889 kg/(m^2*s)\n"
     ]
    }
   ],
   "source": [
    "##############################################################\n",
    "#General Constants Used\n",
    "#############################################################\n",
    "g=9.8 #m/s\n",
    "p_psi16=20 # PSI, from CM.LD2.015.R2\n",
    "p16=p_psi16*6894.76 # Pa\n",
    "mu=3.5e-5 #Pa*s from https://nvlpubs.nist.gov/nistpubs/Legacy/TN/nbstechnicalnote641.pdf\n",
    "kt=0.104 #W/m*K from https://nvlpubs.nist.gov/nistpubs/Legacy/TN/nbstechnicalnote641.pdf\n",
    "beta_t=.012 # K^(-1), relative slope of density with temperature (a la Boussinesq)\n",
    "cp=6565. # J/kg*K (for liquid D2), from CoolProp\n",
    "rho=163 #kg/m3, from CRYOGENIC DATA BOOK by Dudley B. Chelton and Douglas B. Mann, pg 22\n",
    "T=Tin=23.4 # (K) inlet temp\n",
    "Tw=20.7 # (K) temperature of cold wall\n",
    "mdot=0.004 # kg/s, from CM.LD2.015.R2\n",
    "L=10*0.0254 #m length of tube\n",
    "Cp=6565.4 # J/(kg*K), from CoolProp\n",
    "\n",
    "##############################################################\n",
    "#Geometry of HEX\n",
    "#############################################################\n",
    "Ngrooves=2 # number of grooves\n",
    "D=4.76*0.0254 #m, from CM.LD2.015.R2\n",
    "R=D/2\n",
    "wprime= 0.015 #m width of groove\n",
    "uprime= 0.01 # m width between grooves\n",
    "depth=0.015 # m depth of groove\n",
    "sinalpha=(Ngrooves*(wprime + uprime))/(pi*D) #pitch angle\n",
    "alpha=arcsin(sinalpha)\n",
    "print('The pitch angle is %f' %sinalpha)\n",
    "print('Alpha is %f' %alpha)\n",
    "Lprime=L/sinalpha #m length of wound groove\n",
    "print('The length of the groove is %f m.' %Lprime)\n",
    "turns=Lprime/(pi*D)\n",
    "print('Coiling around a Cu rod of diameter %f m would require %f turns'%(D,turns))\n",
    "#based off of sketch w/ jeff\n",
    "w=wprime/sinalpha # m\n",
    "ahelix=Ngrooves*wprime*depth #Arect+2*Atri ?? m^2 area of one helical groove/fin thing\n",
    "print('The area of the helical fins is %f m^2.'%ahelix)\n",
    "phelix=Ngrooves*(2*depth+2*wprime) #m\n",
    "print('The perimeter of the helical grooves is %f m.' %phelix)\n",
    "Dh=4*ahelix/phelix #m\n",
    "print('Hydraulic diameter %f m'%Dh)\n",
    "G=mdot/ahelix # (kg/(m^2*s)) mass flow rate per unit area\n",
    "print('Mass flux per area (G) is %f kg/(m^2*s)'%G)"
   ]
  },
  {
   "cell_type": "markdown",
   "metadata": {},
   "source": [
    "The Reynolds Number from Equation 4.10 in Sadik:\n",
    "\n",
    "\\begin{equation}\n",
    "Re = \\frac{4\\dot{m}}{ \\pi D \\mu}\n",
    "\\end{equation}"
   ]
  },
  {
   "cell_type": "code",
   "execution_count": 3,
   "metadata": {},
   "outputs": [
    {
     "name": "stdout",
     "output_type": "stream",
     "text": [
      "The Reynolds number is 3809.523810\n"
     ]
    }
   ],
   "source": [
    "Re=Dh*G/mu # should be dimensionless\n",
    "print('The Reynolds number is %f'%Re)"
   ]
  },
  {
   "cell_type": "markdown",
   "metadata": {},
   "source": [
    "To characterize the flow in the helical groove, the Dean number is to be calculated. From the equation 3.47 of \"HEAT EXCHANGERS: Selection, Rating, and Thermal Design\" by Sadik Kakaç, Hongtan Liu, and Anchasa Pramuanjaroenkij, (Sadik), the Dean number is found by:\n",
    "\n",
    "\\begin{equation}\n",
    "De = Re \\sqrt{\\frac{D_h}{D}}\n",
    "\\end{equation}"
   ]
  },
  {
   "cell_type": "code",
   "execution_count": 4,
   "metadata": {},
   "outputs": [
    {
     "name": "stdout",
     "output_type": "stream",
     "text": [
      "The Deans number is 1341.825334.\n"
     ]
    }
   ],
   "source": [
    "De=Re*sqrt(Dh/D)\n",
    "print('The Deans number is %f.' %De)"
   ]
  },
  {
   "cell_type": "markdown",
   "metadata": {},
   "source": [
    "Since the Dean number is greater than 300, and the Reynolds number is greater than 3500, the flow is turbulent. The friction factor is found from Equation 4.30 in Sadik,\n",
    "\n",
    "\\begin{equation}\n",
    "f = 4fc\\bigg(0.00725 + 0.076\\bigg(Re\\bigg(\\frac{D}{D_h}\\bigg)^{-2}\\bigg)^{-0.25}\\bigg)\\left(\\frac{D_h}{D}\\right)^{1/2}\n",
    "\\end{equation}"
   ]
  },
  {
   "cell_type": "code",
   "execution_count": 5,
   "metadata": {},
   "outputs": [
    {
     "name": "stdout",
     "output_type": "stream",
     "text": [
      "The fricition factor is 0.048910\n"
     ]
    }
   ],
   "source": [
    "f = 0.00725 + 0.076*(Re*(D/Dh)**(-2))**(-0.25)\n",
    "fc = 4*f*(Dh/D)**(1/2)\n",
    "print('The fricition factor is %f'%fc)"
   ]
  },
  {
   "cell_type": "markdown",
   "metadata": {},
   "source": [
    "The friction factor is found from Equation 4.31 in Sadik,\n",
    "\n",
    "\\begin{equation}\n",
    "f_2 = 4fc_2\\bigg(0.084\\bigg(Re\\bigg(\\frac{D}{D_h}\\bigg)^{-2}\\bigg)^{-0.2}\\bigg)\\left(\\frac{D_h}{D}\\right)^{1/2}\n",
    "\\end{equation}"
   ]
  },
  {
   "cell_type": "code",
   "execution_count": 6,
   "metadata": {},
   "outputs": [
    {
     "name": "stdout",
     "output_type": "stream",
     "text": [
      "The second friction factor is 0.052424\n"
     ]
    }
   ],
   "source": [
    "Cpw=5974.156073133989\n",
    "muw=3.68e-5\n",
    "Pr=Prw=(muw*Cpw)/(kt)\n",
    "Prb=(mu*Cp)/kt\n",
    "f2 = 0.084*(Re*(D/Dh)**(-2))**(-0.2)\n",
    "fc2 = 4*f2*(Dh/D)**(1/2)\n",
    "print('The second friction factor is %f'%fc2)"
   ]
  },
  {
   "cell_type": "markdown",
   "metadata": {},
   "source": [
    "As shown, the two friction factors are in goood agreement with each other.\n",
    "\n",
    "The Nusselt number is found from the ratio of the coiled Nusselt number over the Nusselt number for a straight tube with the same dimensions as the helical tube. From equation 3.53 in Sadik,\n",
    "\n",
    "\\begin{equation}\n",
    "Nu_c = \\bigg(1 + 3.4\\left(\\frac{D_h}{D}\\right)\\left(\\frac{Pr_b}{Pr_w}\\right)^{0.25}\\bigg)(Nu_s) = \\bigg(1 + 3.4\\left(\\frac{D_h}{D}\\right)\\left(\\frac{Pr_b}{Pr_w}\\right)^{0.25}\\bigg)(jHRePr^{1/3})\n",
    "\\end{equation}"
   ]
  },
  {
   "cell_type": "code",
   "execution_count": 7,
   "metadata": {},
   "outputs": [
    {
     "name": "stdout",
     "output_type": "stream",
     "text": [
      "The ratio of coiled Nusselt number to straight tube Nusselt number is Nuc/Nus 1.437628\n",
      "The coiled Nusselt number is 37.053894\n"
     ]
    }
   ],
   "source": [
    "Nu = (1 + 3.4 * (Dh/D))*(Prb/Prw)**(0.25)\n",
    "print('The ratio of coiled Nusselt number to straight tube Nusselt number is Nuc/Nus %f' %Nu)\n",
    "B1=1.174*((3.7e-5)/(3.68e-5))**(0.14)\n",
    "jh=0.023*Re**(-0.2)*B1\n",
    "Pr=(mu*Cp)/(kt)\n",
    "Nus = jh*Re*Pr**(1./3.)\n",
    "print('The coiled Nusselt number is %f' %(Nu*Nus))"
   ]
  },
  {
   "cell_type": "markdown",
   "metadata": {},
   "source": [
    "The flow velocity is found by:\n",
    "\n",
    "\\begin{equation}\n",
    "u = \\frac{G}{\\rho}\n",
    "\\end{equation}"
   ]
  },
  {
   "cell_type": "code",
   "execution_count": 8,
   "metadata": {},
   "outputs": [
    {
     "name": "stdout",
     "output_type": "stream",
     "text": [
      "The flow velocity is 0.054533 m/s\n"
     ]
    }
   ],
   "source": [
    "u=G/rho #m/s\n",
    "print('The flow velocity is %f m/s' %u)"
   ]
  },
  {
   "cell_type": "markdown",
   "metadata": {},
   "source": [
    "The pressure drop for the first friction factor is found by Equations 4.34 and 4.35 in Sadik,\n",
    "\n",
    "\\begin{equation}\n",
    "\\Delta P = \\frac{fcL'\\rho u^2}{2D_h}\n",
    "\\end{equation}"
   ]
  },
  {
   "cell_type": "code",
   "execution_count": 9,
   "metadata": {},
   "outputs": [
    {
     "name": "stdout",
     "output_type": "stream",
     "text": [
      "The pressure drop is 1.524880 Pa from the first friction factor\n"
     ]
    }
   ],
   "source": [
    "dp = (fc*Lprime*rho*u**2)/(2*Dh)\n",
    "print('The pressure drop is %f Pa from the first friction factor' %dp)"
   ]
  },
  {
   "cell_type": "markdown",
   "metadata": {},
   "source": [
    "The pressure drop for the second friction factor is,\n",
    "\n",
    "\\begin{equation}\n",
    "\\Delta P = \\frac{f_2L'\\rho u^2}{2D_h}\n",
    "\\end{equation}"
   ]
  },
  {
   "cell_type": "code",
   "execution_count": 10,
   "metadata": {},
   "outputs": [
    {
     "name": "stdout",
     "output_type": "stream",
     "text": [
      "The pressure drop is 1.634446 Pa from the second friction factor\n"
     ]
    }
   ],
   "source": [
    "dp2 = (fc2*Lprime*rho*u**2)/(2*Dh)\n",
    "print('The pressure drop is %f Pa from the second friction factor' %dp2)"
   ]
  },
  {
   "cell_type": "markdown",
   "metadata": {},
   "source": [
    "The heat transfer coefficient is found from Equation 3.3 in Sadik,\n",
    "\n",
    "\\begin{equation}\n",
    "hc = \\frac{Nu_ckt}{D_h}\n",
    "\\end{equation}"
   ]
  },
  {
   "cell_type": "code",
   "execution_count": 11,
   "metadata": {},
   "outputs": [
    {
     "name": "stdout",
     "output_type": "stream",
     "text": [
      "The heat transfer coeff is 256.907000 W/m^2K.\n"
     ]
    }
   ],
   "source": [
    "h = Nus*Nu*kt/Dh # (mu*Cp*Pr**(-2/3)*Re*0.023*Re**(-0.2))/(Dh)\n",
    "print('The heat transfer coeff is %f W/m^2K.' %h)"
   ]
  },
  {
   "cell_type": "markdown",
   "metadata": {},
   "source": [
    "The number of transfer units is found from Equation 6.41 of Barron,\n",
    "\n",
    "\\begin{equation}\n",
    "Ntu = \\frac{hA_w}{\\dot{m}C_p}\n",
    "\\end{equation}\n",
    "\n",
    "where the area of the cold wall is\n",
    "\n",
    "\\begin{equation}\n",
    "A_w = N(w' + 2depth)L'\n",
    "\\end{equation}"
   ]
  },
  {
   "cell_type": "code",
   "execution_count": 12,
   "metadata": {},
   "outputs": [
    {
     "name": "stdout",
     "output_type": "stream",
     "text": [
      "Area of cold wall 0.173659 m^2\n",
      "The number of transfer units is 1.698836\n",
      "\n"
     ]
    }
   ],
   "source": [
    "Aw=Ngrooves*(wprime+2*depth)*Lprime\n",
    "print('Area of cold wall %f m^2'%Aw)\n",
    "Ntu=h*Aw/(mdot*Cp)\n",
    "print('The number of transfer units is %f'%Ntu)\n",
    "print()"
   ]
  },
  {
   "cell_type": "markdown",
   "metadata": {},
   "source": [
    "The total heat transfer is found from Equation 2.5 and 2.6 from Sadik,\n",
    "\n",
    "\\begin{equation}\n",
    "Q = \\dot{m}C_p (T_1-T_2)\n",
    "\\end{equation}"
   ]
  },
  {
   "cell_type": "code",
   "execution_count": 13,
   "metadata": {},
   "outputs": [
    {
     "name": "stdout",
     "output_type": "stream",
     "text": [
      "For inlet temperature 23.400000 K and wall temperature 20.700000 K\n",
      "the outlet temperature is 21.193820 K\n",
      "and the total heat transfer rate is 57.937820 W\n"
     ]
    }
   ],
   "source": [
    "T1=Tin\n",
    "T2=T1-(T1-Tw)*(1-exp(-Ntu))\n",
    "T2=Tw+(T1-Tw)*exp(-Ntu)\n",
    "Qtotal=mdot*Cp*(T1-T2) # Eq. (6.43) of Barron\n",
    "print('For inlet temperature %f K and wall temperature %f K'%(T1,Tw))\n",
    "print('the outlet temperature is %f K'%T2)\n",
    "print('and the total heat transfer rate is %f W'%Qtotal)"
   ]
  },
  {
   "cell_type": "code",
   "execution_count": null,
   "metadata": {},
   "outputs": [],
   "source": []
  }
 ],
 "metadata": {
  "kernelspec": {
   "display_name": "Python 3",
   "language": "python",
   "name": "python3"
  },
  "language_info": {
   "codemirror_mode": {
    "name": "ipython",
    "version": 3
   },
   "file_extension": ".py",
   "mimetype": "text/x-python",
   "name": "python",
   "nbconvert_exporter": "python",
   "pygments_lexer": "ipython3",
   "version": "3.7.6"
  }
 },
 "nbformat": 4,
 "nbformat_minor": 2
}
