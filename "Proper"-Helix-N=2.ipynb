{
 "cells": [
  {
   "cell_type": "markdown",
   "metadata": {},
   "source": [
    "# UCN LD2 Calculations: Helical Groove with 2 Grooves\n",
    "\n",
    "K. Augusto\n",
    "\n",
    "June 1/20"
   ]
  },
  {
   "cell_type": "code",
   "execution_count": 2,
   "metadata": {},
   "outputs": [],
   "source": [
    "#!/usr/bin/python3.7\n",
    "\n",
    "from math import *\n",
    "from mpl_toolkits import mplot3d\n",
    "from mpl_toolkits.mplot3d import Axes3D\n",
    "import matplotlib.pyplot as plt\n",
    "import matplotlib.patches as patches\n",
    "import numpy as np\n",
    "from numpy import *"
   ]
  },
  {
   "cell_type": "code",
   "execution_count": 3,
   "metadata": {},
   "outputs": [
    {
     "name": "stdout",
     "output_type": "stream",
     "text": [
      "The pitch angle is 0.131637\n",
      "Alpha is 0.132021\n",
      "The length of the groove is 1.929542 m.\n",
      "Coiling around a Cu rod of diameter 0.120904 m would require 5.080000 turns\n",
      "The area of the helical fins is 0.000450 m^2.\n",
      "The perimeter of the helical grooves is 0.120000 m.\n",
      "Hydraulic diameter 0.015000 m\n",
      "\n",
      "Mass flux per area(G) is 8.888889 kg/(m^2*s)\n"
     ]
    }
   ],
   "source": [
    "p_psi=20. # PSI\n",
    "p=p_psi*6894.76 # Pa\n",
    "kt=0.104 # W/(m*K) a\n",
    "\n",
    "T=Tin=23.4 # (K) inlet temp\n",
    "Tw=20.7 # (K) temperature of cold wall\n",
    "\n",
    "mdot=0.004 # kg/s\n",
    "mu=3.5e-5 # Pa*s viscosity\n",
    "\n",
    "L=10*0.0254 #m length of tube\n",
    "\n",
    "rho=163.0 # kg/m^3\n",
    "\n",
    "\n",
    "Cp=6565.4 # J/(kg*K)\n",
    "\n",
    "Ngrooves=2 # number of grooves\n",
    "\n",
    "D=4.76*0.0254 # 0.015949 #m diameter of tube, 0.015949 from optimizing dp in backwards-hex-turbulent-tube.py\n",
    "\n",
    "R=D/2\n",
    "\n",
    "wprime= 0.015 #m width of groove\n",
    "\n",
    "uprime= 0.01 # m width between grooves\n",
    "\n",
    "depth=0.015 # m depth of groove\n",
    "\n",
    "sinalpha=(Ngrooves*(wprime + uprime))/(pi*D) #pitch angle\n",
    "\n",
    "alpha=arcsin(sinalpha)\n",
    "\n",
    "print('The pitch angle is %f' %sinalpha)\n",
    "\n",
    "print('Alpha is %f' %alpha)\n",
    "\n",
    "Lprime=L/sinalpha #m length of wound groove\n",
    "\n",
    "print('The length of the groove is %f m.' %Lprime)\n",
    "\n",
    "turns=Lprime/(pi*D)\n",
    "\n",
    "print('Coiling around a Cu rod of diameter %f m would require %f turns'%(D,turns))\n",
    "\n",
    "#based off of sketch w/ jeff\n",
    "\n",
    "w=wprime/sinalpha # m\n",
    "\n",
    "ahelix=Ngrooves*wprime*depth #Arect+2*Atri ?? m^2 area of one helical groove/fin thing\n",
    "\n",
    "print('The area of the helical fins is %f m^2.'%ahelix)\n",
    "\n",
    "phelix=Ngrooves*(2*depth+2*wprime) #m\n",
    "\n",
    "print('The perimeter of the helical grooves is %f m.' %phelix)\n",
    "\n",
    "Dh=4*ahelix/phelix #m\n",
    "\n",
    "print('Hydraulic diameter %f m'%Dh)\n",
    "print()\n",
    "\n",
    "G=mdot/ahelix # (kg/(m^2*s)) mass flow rate per unit area\n",
    "\n",
    "print('Mass flux per area(G) is %f kg/(m^2*s)'%G)"
   ]
  },
  {
   "cell_type": "markdown",
   "metadata": {},
   "source": [
    "The Reynolds Number is found from:\n",
    "\n",
    "\\begin{equation}\n",
    "Re = \\frac{4\\dot{m}}{ \\pi D \\mu}\n",
    "\\end{equation}"
   ]
  },
  {
   "cell_type": "code",
   "execution_count": 4,
   "metadata": {},
   "outputs": [
    {
     "name": "stdout",
     "output_type": "stream",
     "text": [
      "The Reynolds number is 3809.523810\n"
     ]
    }
   ],
   "source": [
    "Re=Dh*G/mu # should be dimensionless\n",
    "print('The Reynolds number is %f'%Re)"
   ]
  },
  {
   "cell_type": "markdown",
   "metadata": {},
   "source": [
    "The Deans Number is found from:\n",
    "\n",
    "\\begin{equation}\n",
    "De = Re \\sqrt{\\frac{D_h}{D}}\n",
    "\\end{equation}"
   ]
  },
  {
   "cell_type": "code",
   "execution_count": 5,
   "metadata": {},
   "outputs": [
    {
     "name": "stdout",
     "output_type": "stream",
     "text": [
      "The Deans number is 1341.825334.\n"
     ]
    }
   ],
   "source": [
    "De=Re*sqrt(Dh/D)\n",
    "print('The Deans number is %f.' %De)"
   ]
  },
  {
   "cell_type": "markdown",
   "metadata": {},
   "source": [
    "The friction factor is found from:\n",
    "\n",
    "\\begin{equation}\n",
    "f = 4fc\\bigg(0.00725 + 0.076\\bigg(Re\\bigg(\\frac{D}{D_h}\\bigg)^{-2}\\bigg)^{-0.25}\\bigg)\\left(\\frac{D_h}{D}\\right)^{1/2}\n",
    "\\end{equation}"
   ]
  },
  {
   "cell_type": "code",
   "execution_count": 6,
   "metadata": {},
   "outputs": [
    {
     "name": "stdout",
     "output_type": "stream",
     "text": [
      "f is 0.048910\n"
     ]
    }
   ],
   "source": [
    "f = 0.00725 + 0.076*(Re*(D/Dh)**(-2))**(-0.25)\n",
    "fc = 4*f*(Dh/D)**(1/2)\n",
    "print('f is %f'%fc)"
   ]
  },
  {
   "cell_type": "markdown",
   "metadata": {},
   "source": [
    "The friction factor is also found from:\n",
    "\n",
    "\\begin{equation}\n",
    "f = 4fc_2\\bigg(0.084\\bigg(Re\\bigg(\\frac{D}{D_h}\\bigg)^{-2}\\bigg)^{-0.2}\\bigg)\\left(\\frac{D_h}{D}\\right)^{1/2}\n",
    "\\end{equation}"
   ]
  },
  {
   "cell_type": "code",
   "execution_count": 7,
   "metadata": {},
   "outputs": [
    {
     "name": "stdout",
     "output_type": "stream",
     "text": [
      "f2 is 0.052424\n"
     ]
    }
   ],
   "source": [
    "Cpw=5974.156073133989\n",
    "muw=3.68e-5\n",
    "Pr=Prw=(muw*Cpw)/(kt)\n",
    "Prb=(mu*Cp)/kt\n",
    "f2 = 0.084*(Re*(D/Dh)**(-2))**(-0.2)\n",
    "fc2 = 4*f2*(Dh/D)**(1/2)\n",
    "print('f2 is %f'%fc2)"
   ]
  },
  {
   "cell_type": "markdown",
   "metadata": {},
   "source": [
    "The Nusselt Number is found from:\n",
    "\n",
    "\\begin{equation}\n",
    "Nu = (4.364 )\n",
    "\\end{equation}"
   ]
  },
  {
   "cell_type": "code",
   "execution_count": 15,
   "metadata": {},
   "outputs": [
    {
     "name": "stdout",
     "output_type": "stream",
     "text": [
      "This is Nuc/Nus 36.264562\n",
      "Nuc is 934.694678\n"
     ]
    }
   ],
   "source": [
    "B1=1.174*((3.7e-5)/(3.68e-5))**(0.14)\n",
    "jh=0.023*Re**(-0.2)*B1\n",
    "Pr=(mu*Cp)/(kt)\n",
    "Nu = ((4.364 +  (4.636/(1+1342/Pr*De**2)**2))**(3)+ (1.816*(De/(1+1.15/Pr))**(3/2)))**(1/3)\n",
    "print('This is Nuc/Nus %f' %Nu)\n",
    "Nus = jh*Re*Pr**(1./3.)\n",
    "print('Nuc is %f' %(Nu*Nus))"
   ]
  },
  {
   "cell_type": "code",
   "execution_count": 16,
   "metadata": {},
   "outputs": [
    {
     "name": "stdout",
     "output_type": "stream",
     "text": [
      "0.054533060668029994\n"
     ]
    }
   ],
   "source": [
    "u=G/rho #m/s\n",
    "print(u)"
   ]
  },
  {
   "cell_type": "code",
   "execution_count": 17,
   "metadata": {},
   "outputs": [
    {
     "name": "stdout",
     "output_type": "stream",
     "text": [
      "the pressure drop is 1.524880 Pa from f\n"
     ]
    }
   ],
   "source": [
    "dp = (fc*Lprime*rho*u**2)/(2*Dh)\n",
    "print('the pressure drop is %f Pa from f' %dp)"
   ]
  },
  {
   "cell_type": "code",
   "execution_count": 18,
   "metadata": {},
   "outputs": [
    {
     "name": "stdout",
     "output_type": "stream",
     "text": [
      "the pressure drop is 1.634446 Pa from f2\n"
     ]
    }
   ],
   "source": [
    "dp2 = (fc2*Lprime*rho*u**2)/(2*Dh)\n",
    "print('the pressure drop is %f Pa from f2' %dp2)"
   ]
  },
  {
   "cell_type": "markdown",
   "metadata": {},
   "source": [
    "The heat transfer coefficient is found by:\n",
    "\n",
    "\\begin{equation}\n",
    "hc = \\frac{Nukt}{D_h}\n",
    "\\end{equation}"
   ]
  },
  {
   "cell_type": "code",
   "execution_count": 19,
   "metadata": {},
   "outputs": [
    {
     "name": "stdout",
     "output_type": "stream",
     "text": [
      "The heat transfer coeff is 6480.549770 W/m^2K.\n"
     ]
    }
   ],
   "source": [
    "h = Nus*Nu*kt/Dh # (mu*Cp*Pr**(-2/3)*Re*0.023*Re**(-0.2))/(Dh)\n",
    "print('The heat transfer coeff is %f W/m^2K.' %h)"
   ]
  },
  {
   "cell_type": "markdown",
   "metadata": {},
   "source": [
    "The number of transfer units is found from:\n",
    "\n",
    "\\begin{equation}\n",
    "Ntu = \\frac{hA_w}{\\dot{m}C_p}\n",
    "\\end{equation}\n",
    "\n",
    "where\n",
    "\n",
    "\\begin{equation}\n",
    "A_w = N(w' + 2depth)L'\n",
    "\\end{equation}"
   ]
  },
  {
   "cell_type": "code",
   "execution_count": 20,
   "metadata": {},
   "outputs": [
    {
     "name": "stdout",
     "output_type": "stream",
     "text": [
      "Area of cold wall 0.173659 m^2\n",
      "The number of transfer units is 42.853612\n",
      "\n"
     ]
    }
   ],
   "source": [
    "Aw=Ngrooves*(wprime+2*depth)*Lprime\n",
    "print('Area of cold wall %f m^2'%Aw)\n",
    "Ntu=h*Aw/(mdot*Cp)\n",
    "print('The number of transfer units is %f'%Ntu)\n",
    "print()"
   ]
  },
  {
   "cell_type": "markdown",
   "metadata": {},
   "source": [
    "The total heat transfer is found from:\n",
    "\n",
    "\\begin{equation}\n",
    "Q = \\dot{m}C_p (T_1-T_2)\n",
    "\\end{equation}"
   ]
  },
  {
   "cell_type": "code",
   "execution_count": 21,
   "metadata": {},
   "outputs": [
    {
     "name": "stdout",
     "output_type": "stream",
     "text": [
      "For inlet temperature 23.400000 K and wall temperature 20.700000 K\n",
      "the outlet temperature is 20.700000 K\n",
      "and the total heat transfer rate is 70.906320 W\n"
     ]
    }
   ],
   "source": [
    "T1=Tin\n",
    "T2=T1-(T1-Tw)*(1-exp(-Ntu))\n",
    "T2=Tw+(T1-Tw)*exp(-Ntu)\n",
    "Qtotal=mdot*Cp*(T1-T2) # Eq. (6.43) of Barron\n",
    "print('For inlet temperature %f K and wall temperature %f K'%(T1,Tw))\n",
    "print('the outlet temperature is %f K'%T2)\n",
    "print('and the total heat transfer rate is %f W'%Qtotal)"
   ]
  },
  {
   "cell_type": "code",
   "execution_count": null,
   "metadata": {},
   "outputs": [],
   "source": []
  }
 ],
 "metadata": {
  "kernelspec": {
   "display_name": "Python 3",
   "language": "python",
   "name": "python3"
  },
  "language_info": {
   "codemirror_mode": {
    "name": "ipython",
    "version": 3
   },
   "file_extension": ".py",
   "mimetype": "text/x-python",
   "name": "python",
   "nbconvert_exporter": "python",
   "pygments_lexer": "ipython3",
   "version": "3.7.6"
  }
 },
 "nbformat": 4,
 "nbformat_minor": 2
}
