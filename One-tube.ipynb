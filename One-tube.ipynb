{
 "cells": [
  {
   "cell_type": "markdown",
   "metadata": {},
   "source": [
    "# UCN LD2 Calculations\n",
    "\n",
    "J. Martin, K. Augusto\n",
    "\n",
    "May 25/20"
   ]
  },
  {
   "cell_type": "markdown",
   "metadata": {},
   "source": [
    "Modeling a HEX as a single straight tube with fluid flowing down the middle using https://uspas.fnal.gov/materials/10MIT/Lecture_3.2.pdf as a reference. A fixed Reynolds number of 10,000 is used. "
   ]
  },
  {
   "cell_type": "code",
   "execution_count": 4,
   "metadata": {},
   "outputs": [],
   "source": [
    "#!/usr/bin/python3\n",
    "\n",
    "from math import *\n",
    "import matplotlib.pyplot as plt\n",
    "import matplotlib.patches as patches\n",
    "\n",
    "import numpy as np\n",
    "from scipy import interpolate\n",
    "from scipy.integrate import odeint"
   ]
  },
  {
   "cell_type": "markdown",
   "metadata": {},
   "source": [
    "The flow perimeter is found from:\n",
    "\n",
    "\\begin{equation}\n",
    "P = \\frac{4\\dot{m}}{Re\\mu}\n",
    "\\end{equation}"
   ]
  },
  {
   "cell_type": "code",
   "execution_count": 5,
   "metadata": {},
   "outputs": [
    {
     "name": "stdout",
     "output_type": "stream",
     "text": [
      "Flow perimeter 0.045714 m\n",
      "Diameter of tube 0.014551 m\n"
     ]
    }
   ],
   "source": [
    "mdot=0.004 # kg/s\n",
    "mu=3.5e-5 # Pa*s\n",
    "Re=10000.\n",
    "p=4*mdot/(Re*mu) # m\n",
    "print('Flow perimeter %f m'%p)\n",
    "diameter=p/pi\n",
    "print('Diameter of tube %f m'%diameter)\n",
    "\n",
    "rho=163.0 # kg/m^3\n",
    "\n",
    "Cp=6565.4 # J/(kg*K)"
   ]
  },
  {
   "cell_type": "markdown",
   "metadata": {},
   "source": [
    "The Colburn Factor is found from:\n",
    "\n",
    "\\begin{equation}\n",
    "jH = 0.023Re^{-0.2}B1\n",
    "\\end{equation}\n",
    "\n",
    "The Nusselt Number is found from:\n",
    "\n",
    "\\begin{equation}\n",
    "Nu = jHRePr^{1/3}\n",
    "\\end{equation}"
   ]
  },
  {
   "cell_type": "code",
   "execution_count": 6,
   "metadata": {},
   "outputs": [
    {
     "name": "stdout",
     "output_type": "stream",
     "text": [
      "This is B1 1.174891.\n",
      "According to correlations, Nu=55.781604\n"
     ]
    }
   ],
   "source": [
    "Pr=2.209513 # taken from d2-hex-drawing.py\n",
    "B1=1.174*((3.7e-5)/(3.68e-5))**(0.14) #viscosity taken from cams sheets\n",
    "print('This is B1 %f.' %B1)\n",
    "jh=0.023*Re**(-0.2)*B1\n",
    "Nu=jh*Re*Pr**(1./3.)\n",
    "print('According to correlations, Nu=%f'%Nu)"
   ]
  },
  {
   "cell_type": "markdown",
   "metadata": {},
   "source": [
    "The heat transfer coefficient is found from:\n",
    "\n",
    "\\begin{equation}\n",
    "hc = \\frac{Nu kt}{D}\n",
    "\\end{equation}"
   ]
  },
  {
   "cell_type": "code",
   "execution_count": 7,
   "metadata": {},
   "outputs": [
    {
     "name": "stdout",
     "output_type": "stream",
     "text": [
      "The heat transfer coefficient is 398.678003 W/m^2-K\n"
     ]
    }
   ],
   "source": [
    "kt=0.104 # W/(m*K) \n",
    "Ntu=3.0\n",
    "hc=Nu*kt/diameter\n",
    "print('The heat transfer coefficient is %f W/m^2-K'%hc)"
   ]
  },
  {
   "cell_type": "markdown",
   "metadata": {},
   "source": [
    "The length of the tube needed is found from:\n",
    "\n",
    "\\begin{equation}\n",
    "L = \\frac{Ntu\\dot{m}C_p}{Nu kt\\pi}\n",
    "\\end{equation}\n",
    "\n",
    "The friction factor is found from:\n",
    "\n",
    "\\begin{equation}\n",
    "f = 0.316Re^{-0.25}\n",
    "\\end{equation}"
   ]
  },
  {
   "cell_type": "code",
   "execution_count": 8,
   "metadata": {},
   "outputs": [
    {
     "name": "stdout",
     "output_type": "stream",
     "text": [
      "Tube length needed for sufficient heat transfer 4.322831 m\n",
      "The turbulent friction factor is 0.031600.\n"
     ]
    }
   ],
   "source": [
    "L=Ntu/(Nu*kt*pi/(mdot*Cp))\n",
    "print('Tube length needed for sufficient heat transfer %f m'%L)\n",
    "\n",
    "f=0.316*Re**(-0.25)\n",
    "print('The turbulent friction factor is %f.' %f)"
   ]
  },
  {
   "cell_type": "markdown",
   "metadata": {},
   "source": [
    "The pressure drop is found from:\n",
    "\n",
    "\\begin{equation}\n",
    "dp = \\frac{8f\\dot{m}^2L}{\\rho \\pi^2 D^5}\n",
    "\\end{equation}"
   ]
  },
  {
   "cell_type": "code",
   "execution_count": 9,
   "metadata": {},
   "outputs": [
    {
     "name": "stdout",
     "output_type": "stream",
     "text": [
      "The pressure drop is 16.659716 Pa\n"
     ]
    }
   ],
   "source": [
    "dp=(8*f*mdot**2/(rho*pi**2))*L/diameter**5 # tube\n",
    "print('The pressure drop is %f Pa'%dp)"
   ]
  },
  {
   "cell_type": "code",
   "execution_count": 10,
   "metadata": {},
   "outputs": [
    {
     "name": "stdout",
     "output_type": "stream",
     "text": [
      "Coiling around a Cu rod of diameter 0.101600 m would require 13.543305 turns\n",
      "This Cu rod would need to be at least 0.197073 m long (for zero Cu wall thickness)\n"
     ]
    }
   ],
   "source": [
    "dcoil=4.*0.0254 # m diameter of coiled tube\n",
    "turns=L/(pi*dcoil)\n",
    "print('Coiling around a Cu rod of diameter %f m would require %f turns'%(dcoil,turns))\n",
    "print('This Cu rod would need to be at least %f m long (for zero Cu wall thickness)'%(turns*diameter))"
   ]
  },
  {
   "cell_type": "markdown",
   "metadata": {},
   "source": [
    "In the above calculations, Reynolds number was fixed at 10,000 and the diameter at 0.014551 m, to find what the pressure drop would be. Now, the pressure drop is fixed at 10 Pa and the Ntu is fixed at 3, to determine what the diameter of the tube, the Reynolds number, and the heat transfer coefficient would be at 10 Pa. \n",
    "\n",
    "\n",
    "Finding the optimal pipe diameter for a pressure drop of 10 Pa by:\n",
    "\n",
    "\\begin{equation}\n",
    "D = \\frac{8f\\dot{m}^2L}{(dp\\rho\\pi^2)^{1/5}}\n",
    "\\end{equation}"
   ]
  },
  {
   "cell_type": "code",
   "execution_count": 11,
   "metadata": {},
   "outputs": [
    {
     "name": "stdout",
     "output_type": "stream",
     "text": [
      "The diameter is 0.015949 m\n"
     ]
    }
   ],
   "source": [
    "dp2=10 #Pa\n",
    "mdot=0.004 # kg/s\n",
    "mu=3.5e-5 # Pa*s\n",
    "Ntu=3.0\n",
    "f=0.03 # following along in the example, have to guess an f\n",
    "\n",
    "D=((8*f*mdot**2*L)/(rho*pi**2*dp2))**(1/5)\n",
    "\n",
    "print('The diameter is %f m'%D)"
   ]
  },
  {
   "cell_type": "markdown",
   "metadata": {},
   "source": [
    "The Reynolds Number is found from:\n",
    "\n",
    "\\begin{equation}\n",
    "Re = \\frac{4\\dot{m}}{ \\pi D \\mu}\n",
    "\\end{equation}\n",
    "\n",
    "The Nusselt Number is found from:\n",
    "\n",
    "\\begin{equation}\n",
    "Nu = jH RePr^{1/3}\n",
    "\\end{equation}"
   ]
  },
  {
   "cell_type": "code",
   "execution_count": 12,
   "metadata": {},
   "outputs": [
    {
     "name": "stdout",
     "output_type": "stream",
     "text": [
      "This is Re based on optimal diameter 9123.881703\n",
      "According to correlations, Nu=51.836360\n"
     ]
    }
   ],
   "source": [
    "Re2=(4*mdot)/(pi*D*mu)\n",
    "print('This is Re based on optimal diameter %f' %Re2)\n",
    "\n",
    "Pr2=(mu*Cp)/(kt) # yes still dimensionless\n",
    "jh2=0.023*Re2**(-0.2)*B1\n",
    "Nu2=jh2*Re2*Pr2**(1./3.)\n",
    "print('According to correlations, Nu=%f'%Nu2)"
   ]
  },
  {
   "cell_type": "markdown",
   "metadata": {},
   "source": [
    "The length of the tube needed is found from:\n",
    "\n",
    "\\begin{equation}\n",
    "L = \\frac{Ntu\\dot{m}C_p}{Nu kt\\pi}\n",
    "\\end{equation}"
   ]
  },
  {
   "cell_type": "code",
   "execution_count": 13,
   "metadata": {},
   "outputs": [
    {
     "name": "stdout",
     "output_type": "stream",
     "text": [
      "Tube length needed for sufficient heat transfer 4.322831 m\n",
      "Coiling around a HEX of diameter 0.015949 m would require 92.843700 turns\n",
      "This Cu rod would need to be at least 1.480727 m long (for zero Cu wall thickness)\n"
     ]
    }
   ],
   "source": [
    "L2=Ntu/(Nu2*kt*pi/(mdot*Cp))\n",
    "print('Tube length needed for sufficient heat transfer %f m'%L)\n",
    "\n",
    "turns2=L2/(pi*D)\n",
    "print('Coiling around a HEX of diameter %f m would require %f turns'%(D,turns2))\n",
    "print('This Cu rod would need to be at least %f m long (for zero Cu wall thickness)'%(turns2*D))"
   ]
  },
  {
   "cell_type": "markdown",
   "metadata": {},
   "source": [
    "The heat transfer coefficient is found from:\n",
    "\n",
    "\\begin{equation}\n",
    "hc = \\frac{Nukt}{D}\n",
    "\\end{equation}\n",
    "\n",
    "The Nusselt number from the example is found from:\n",
    "\n",
    "\\begin{equation}\n",
    "Nu = 0.023Re^{0.8}Pr^{0.3}\n",
    "\\end{equation}"
   ]
  },
  {
   "cell_type": "code",
   "execution_count": 14,
   "metadata": {},
   "outputs": [
    {
     "name": "stdout",
     "output_type": "stream",
     "text": [
      "The heat transfer coefficient is 338.022348 W/m^2-K\n",
      "From example Nu=42.969502\n"
     ]
    }
   ],
   "source": [
    "hc2=Nu2*kt/D\n",
    "print('The heat transfer coefficient is %f W/m^2-K'%hc2)\n",
    "\n",
    "Nu3=0.023*Re2**(0.8)*Pr2**(0.3)\n",
    "print('From example Nu=%f'%Nu3)"
   ]
  },
  {
   "cell_type": "markdown",
   "metadata": {},
   "source": [
    "The heat transfer per temperature is found from:\n",
    "\n",
    "\\begin{equation}\n",
    "Q = hc\\pi DL\n",
    "\\end{equation}"
   ]
  },
  {
   "cell_type": "code",
   "execution_count": 15,
   "metadata": {},
   "outputs": [
    {
     "name": "stdout",
     "output_type": "stream",
     "text": [
      "The heat transfer per temp is 73.212617 W/K\n"
     ]
    }
   ],
   "source": [
    "QL=hc2*pi*D*L\n",
    "print('The heat transfer per temp is %f W/K' %QL)"
   ]
  },
  {
   "cell_type": "code",
   "execution_count": null,
   "metadata": {},
   "outputs": [],
   "source": []
  }
 ],
 "metadata": {
  "kernelspec": {
   "display_name": "Python 3",
   "language": "python",
   "name": "python3"
  },
  "language_info": {
   "codemirror_mode": {
    "name": "ipython",
    "version": 3
   },
   "file_extension": ".py",
   "mimetype": "text/x-python",
   "name": "python",
   "nbconvert_exporter": "python",
   "pygments_lexer": "ipython3",
   "version": "3.7.4"
  }
 },
 "nbformat": 4,
 "nbformat_minor": 2
}
