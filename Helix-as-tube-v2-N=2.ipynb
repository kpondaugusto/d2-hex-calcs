{
 "cells": [
  {
   "cell_type": "markdown",
   "metadata": {},
   "source": [
    "# UCN LD2 Calculations: Helical Groove as a Straight Tube - 2 Grooves\n",
    "\n",
    "K. Augusto, J. Martin\n",
    "\n",
    "June 9/20\n",
    "\n",
    "Calculates the performance of a helical groove heat exchanger in the steady state operation of the LD2 thermosyphon.  Straight tube correlations are used for friction factors and Nusselt numbers.  The straight tube has a square profile and the appropriate hydraulic diameter formulae are used relative to the circular tube formulae.  Use of helical correlations is studied in another notebook. The dimensions of the groove were changed to have the same outlet temperature as one groove."
   ]
  },
  {
   "cell_type": "code",
   "execution_count": 32,
   "metadata": {},
   "outputs": [],
   "source": [
    "#!/usr/bin/python3\n",
    "\n",
    "from math import *\n",
    "\n",
    "from mpl_toolkits import mplot3d\n",
    "\n",
    "from mpl_toolkits import mplot3d\n",
    "import matplotlib.pyplot as plt\n",
    "import matplotlib.patches as patches\n",
    "import numpy as np\n",
    "from numpy import *"
   ]
  },
  {
   "cell_type": "code",
   "execution_count": 33,
   "metadata": {},
   "outputs": [],
   "source": [
    "##############################################################\n",
    "#General Constants Used\n",
    "#############################################################\n",
    "p_psi=20. # PSI, from CM.LD2.015.R2\n",
    "p=p_psi*6894.76 # Pa\n",
    "kt=0.104 # W/(m*K) from https://nvlpubs.nist.gov/nistpubs/Legacy/TN/nbstechnicalnote641.pdf\n",
    "T=Tin=23.4 # (K) inlet temp from CM.LD2.015.R2\n",
    "Tw=20.7 # (K) temperature of cold wall \n",
    "mdot=0.004 # kg/s from CM.LD2.015.R2; based on the pressure head driven by (Delta)T=23.4-21.04=2.36K. If the outlet temperature doesn't reach 21.04 K (or less), the HEX doesn't work.\n",
    "mu=3.5e-5 # Pa*s from https://nvlpubs.nist.gov/nistpubs/Legacy/TN/nbstechnicalnote641.pdf \n",
    "rho=163.0 # kg/m^3 from CRYOGENIC DATA BOOK by Dudley B. Chelton and Douglas B. Mann, pg 22\n",
    "Cp=6565.4 # J/(kg*K) from CoolProp\n",
    "\n",
    "##############################################################\n",
    "#Geometry of HEX\n",
    "#############################################################\n",
    "L=10*0.0254 #m physical height of tube, from CM.LD2.015.R2\n",
    "Ngrooves=2 # number of grooves, the optimal groove will be explored in another notebook \n",
    "D=4.76*0.0254 #m diameter of tube from CM.LD2.015.R2\n",
    "wprime= 0.01 #m width of groove\n",
    "uprime= 0.01 # m width between grooves\n",
    "depth=0.01 # m depth of groove"
   ]
  },
  {
   "cell_type": "markdown",
   "metadata": {},
   "source": [
    "The following diagram displays the unrolled helical HEX geometry that is used in the calculation.\n",
    "\n",
    "<img src=\"helix-drawing-v2.png\">\n",
    "\n",
    "To find the pitch angle:\n",
    "\n",
    "\\begin{equation}\n",
    "\\alpha = \\sin^{-1}\\left(\\frac{N(w'+u')}{\\pi D}\\right)\n",
    "\\end{equation}\n",
    "\n",
    "where $w'$ is the width of the groove, $u'$ is the width of material between the grooves, $N$ is the number of grooves, and $D$ is the diameter of the Copper bar into which the helical grooves are cut."
   ]
  },
  {
   "cell_type": "code",
   "execution_count": 34,
   "metadata": {},
   "outputs": [
    {
     "name": "stdout",
     "output_type": "stream",
     "text": [
      "The pitch angle is 0.105506 radians\n"
     ]
    }
   ],
   "source": [
    "sinalpha=(Ngrooves*(wprime + uprime))/(pi*D) #pitch angle\n",
    "alpha=arcsin(sinalpha)\n",
    "print('The pitch angle is %f radians' %alpha)"
   ]
  },
  {
   "cell_type": "code",
   "execution_count": 35,
   "metadata": {},
   "outputs": [
    {
     "name": "stdout",
     "output_type": "stream",
     "text": [
      "The length of the groove is 2.411928 m.\n",
      "Coiling around a Cu rod of diameter 0.120904 m would require approximately 6.350000 turns\n",
      "Coiling around a Cu rod of diameter 0.120904 m would require 6.314690 turns\n"
     ]
    }
   ],
   "source": [
    "Lprime=L/sinalpha #m, length of wound groove\n",
    "print('The length of the groove is %f m.' %Lprime)\n",
    "appturns=Lprime/(pi*D) # note:  a small-angle approximation has been used here\n",
    "print('Coiling around a Cu rod of diameter %f m would require approximately %f turns'%(D,appturns))\n",
    "turns=L/(tan(alpha)*pi*D) # correct calculation with no small-angle approximation\n",
    "print('Coiling around a Cu rod of diameter %f m would require %f turns'%(D,turns))"
   ]
  },
  {
   "cell_type": "markdown",
   "metadata": {},
   "source": [
    "The total flow area of all the helical channels combined is found from:\n",
    "\n",
    "\\begin{equation}\n",
    "A = Nw'depth\n",
    "\\end{equation}\n",
    "\n",
    "The total flow perimeter of all the helical channels combined is found from:\n",
    "\n",
    "\\begin{equation}\n",
    "P = 2N(depth + w')\n",
    "\\end{equation}"
   ]
  },
  {
   "cell_type": "code",
   "execution_count": 36,
   "metadata": {},
   "outputs": [
    {
     "name": "stdout",
     "output_type": "stream",
     "text": [
      "The area of the helical fins is 0.000200 m^2.\n",
      "The perimeter of the helical grooves is 0.080000 m.\n"
     ]
    }
   ],
   "source": [
    "ahelix=Ngrooves*wprime*depth # m^2, total flow area of all the grooves\n",
    "print('The area of the helical fins is %f m^2.'%ahelix)\n",
    "phelix=Ngrooves*(2*depth+2*wprime) # m, total flow perimeter of all the grooves \n",
    "print('The perimeter of the helical grooves is %f m.' %phelix)"
   ]
  },
  {
   "cell_type": "markdown",
   "metadata": {},
   "source": [
    "The hydraluic diameter is found from Equation 6.11 from \"Cryogenic Heat Transfer\" by Randall F. Barron and Gregory F. Nellis (Barron):\n",
    "\n",
    "\\begin{equation}\n",
    "D_h = \\frac{4A}{P}\n",
    "\\end{equation}\n",
    "\n",
    "The formula for $D_h$ is independent of the number of channels used, if $w'$ and $depth$ are kept constant.  The quantity $N$ cancels.\n",
    "\n",
    "The Mass flux per unit area is found from:\n",
    "\n",
    "\\begin{equation}\n",
    "G = \\frac{\\dot{m}}{A}\n",
    "\\end{equation}\n",
    "\n",
    "The mass flux per unit area $G$ drops appropriately when the number of channels $N$ is increased, for fixed channel dimensions $w'$ and $depth$."
   ]
  },
  {
   "cell_type": "code",
   "execution_count": 37,
   "metadata": {},
   "outputs": [
    {
     "name": "stdout",
     "output_type": "stream",
     "text": [
      "Hydraulic diameter 0.010000 m\n",
      "Mass flux per unit area is 20.000000 kg/(m^2*s)\n"
     ]
    }
   ],
   "source": [
    "Dh=4*ahelix/phelix #m\n",
    "print('Hydraulic diameter %f m'%Dh)\n",
    "G=mdot/ahelix # (kg/(m^2*s)) mass flow rate per unit area\n",
    "print('Mass flux per unit area is %f kg/(m^2*s)'%G)"
   ]
  },
  {
   "cell_type": "markdown",
   "metadata": {},
   "source": [
    "The Reynolds Number is found from Equation 6.10 from Barron:\n",
    "\n",
    "\\begin{equation}\n",
    "Re = \\frac{D_hG}{\\mu}\n",
    "\\end{equation}"
   ]
  },
  {
   "cell_type": "code",
   "execution_count": 38,
   "metadata": {},
   "outputs": [
    {
     "name": "stdout",
     "output_type": "stream",
     "text": [
      "The Reynolds number is 5714.285714\n"
     ]
    }
   ],
   "source": [
    "Re=Dh*G/mu # dimensionless\n",
    "print('The Reynolds number is %f'%Re)"
   ]
  },
  {
   "cell_type": "markdown",
   "metadata": {},
   "source": [
    "In order to calculate the heat transfer coefficient, the Nusselt number must be determined from correlations.  In the following calculation, we use the correlations found in Barron, and following the discussion of Example 6.1 in Chapter 6.\n",
    "\n",
    "The Colburn factor is found from Equation 6.33 of Barron:\n",
    "\n",
    "\\begin{equation}\n",
    "j_H = 0.023Re^{-1/5}B_1\n",
    "\\end{equation}\n",
    "\n",
    "According to equation 6.34 of Barron, the factor $B_1$ is used for liquids only, as it is 1 for gases.  It relates to the viscosity ratio at the wall temperature relative the bulk liquid temperature, as explained in Equation 6.35 of Barron.  For the wall temperature a value of 20.7 K was used.  For the bulk liquid temperature a value was derived based on the inlet liquid temperature, which, as will be seen below was 23.4 K.  The viscosities were taken from \"UCN LD2 Heat exchanger Design\" by C. Marshall.  These were then used in the following formula which is Equation 6.35 of Barron.\n",
    "\n",
    "\\begin{equation}\n",
    "B_1=1.174 \\bigg( \\frac{\\mu_{ave}}{\\mu_w} \\bigg)^{0.14}\n",
    "\\end{equation}\n",
    "\n",
    "As will be seen below, the viscosity ratio is very close to unity for the given parameters.  The main effect of including $B_1$ is then that the factor 1.174 is included, which inceases the Colburn J-factor $j_H$ by 14\\%.\n"
   ]
  },
  {
   "cell_type": "code",
   "execution_count": 39,
   "metadata": {},
   "outputs": [
    {
     "name": "stdout",
     "output_type": "stream",
     "text": [
      "This is B1 1.174891.\n",
      "The Colburn factor for the turbulent flow is 0.004790.\n"
     ]
    }
   ],
   "source": [
    "B1=1.174*((3.7e-5)/(3.68e-5))**(0.14) #viscosity taken from CM.LD2.015.R2\n",
    "print('This is B1 %f.' %B1)\n",
    "if Re < 3500 :\n",
    "    print('It is laminar or in between')\n",
    "elif Re > 3500 :\n",
    "    jh=0.023*Re**(-0.2)*B1\n",
    "    print('The Colburn factor for the turbulent flow is %f.' %jh)"
   ]
  },
  {
   "cell_type": "markdown",
   "metadata": {},
   "source": [
    "The Prandlt Number is found from Equation 6.14 of Barron:\n",
    "\n",
    "\\begin{equation}\n",
    "{\\rm Pr} = \\frac{\\mu C_p}{k_t}\n",
    "\\end{equation}"
   ]
  },
  {
   "cell_type": "markdown",
   "metadata": {},
   "source": [
    "For turbulent flow (${\\rm Re}>3500$), the Nusselt Number is found from Equation 6.18 of Barron:\n",
    "\n",
    "\\begin{equation}\n",
    "{\\rm Nu} = j_H{\\rm Re}{\\rm Pr}^{1/3}\n",
    "\\end{equation}"
   ]
  },
  {
   "cell_type": "code",
   "execution_count": 40,
   "metadata": {},
   "outputs": [
    {
     "name": "stdout",
     "output_type": "stream",
     "text": [
      "The Prandtl Number is 2.209510.\n",
      "This is the turbulent Nusselt Number 35.650066.\n"
     ]
    }
   ],
   "source": [
    "Pr=(mu*Cp)/(kt) # dimentionless\n",
    "print('The Prandtl Number is %f.'%Pr)\n",
    "if Re < 3500 :\n",
    "    Nu=4.8608\n",
    "    print('Nu=4.8608 because the flow is laminar')\n",
    "elif Re > 3500 :\n",
    "    Nuturb=jh*Re*Pr**(1./3.)\n",
    "    print('This is the turbulent Nusselt Number %f.' %Nuturb)"
   ]
  },
  {
   "cell_type": "markdown",
   "metadata": {},
   "source": [
    "The heat transfer coefficient is then found from Equation 6.17 from Barron:\n",
    "\n",
    "\\begin{equation}\n",
    "h_c = \\frac{{\\rm Nu}k_t}{D_h}\n",
    "\\end{equation}"
   ]
  },
  {
   "cell_type": "code",
   "execution_count": 41,
   "metadata": {},
   "outputs": [
    {
     "name": "stdout",
     "output_type": "stream",
     "text": [
      "The heat transfer coefficient for turbulent flow is 370.760687 W/(m^2*K)\n"
     ]
    }
   ],
   "source": [
    "if Re < 3500 :\n",
    "    hc=Nu*kt/Dh \n",
    "    print('The heat transfer coefficient for laminar flow is %f W/(m^2*K)'%hc)\n",
    "elif Re > 3500 :\n",
    "    hc=Nuturb*kt/Dh \n",
    "    print('The heat transfer coefficient for turbulent flow is %f W/(m^2*K)'%hc)"
   ]
  },
  {
   "cell_type": "markdown",
   "metadata": {},
   "source": [
    "For turbulent flow, the friction factor is found Equation 6.32 from Barron:\n",
    "\n",
    "\\begin{equation}\n",
    "f = 0.316Re^{(-1/4)}\n",
    "\\end{equation}"
   ]
  },
  {
   "cell_type": "code",
   "execution_count": 42,
   "metadata": {},
   "outputs": [
    {
     "name": "stdout",
     "output_type": "stream",
     "text": [
      "The turbulent friction factor is 0.036345.\n"
     ]
    }
   ],
   "source": [
    "fRe=24.00*4\n",
    "if Re < 2300 :\n",
    "    f=fRe/Re\n",
    "    #f=64/Re #assuming cicular tube\n",
    "    print('The laminar friction factor is %f.' %f)\n",
    "elif 3500 > Re > 2300 :\n",
    "    f=1.2036*Re**(-0.416) #from vijayan\n",
    "    print('The friction factor is in between laminar and turbulent')\n",
    "elif Re > 3500 :\n",
    "    f=0.316*Re**(-0.25)\n",
    "    print('The turbulent friction factor is %f.' %f)"
   ]
  },
  {
   "cell_type": "markdown",
   "metadata": {},
   "source": [
    "The pressure drop is found from Equation 6.21 from Barron:\n",
    "\n",
    "\\begin{equation}\n",
    "\\Delta P = \\frac{fL'G^2}{2D_h\\rho}\n",
    "\\end{equation}"
   ]
  },
  {
   "cell_type": "code",
   "execution_count": 43,
   "metadata": {},
   "outputs": [
    {
     "name": "stdout",
     "output_type": "stream",
     "text": [
      "The pressure drop is 10.756061 Pa\n"
     ]
    }
   ],
   "source": [
    "dp=(f*Lprime*G**2)/(Dh*2*rho) # (Pa) pressure drop\n",
    "\n",
    "print('The pressure drop is %f Pa'%dp)"
   ]
  },
  {
   "cell_type": "markdown",
   "metadata": {},
   "source": [
    "The area of the wall transfering heat is found from:\n",
    "\n",
    "\\begin{equation}\n",
    "A_w = NL'(w' + 2depth)\n",
    "\\end{equation}\n",
    "\n",
    "In this calculation, possible fluid flow over the top of the $u'$ sections has been ignored.  Only heat transfer from within the ``U'' of the grooves has been included."
   ]
  },
  {
   "cell_type": "code",
   "execution_count": 44,
   "metadata": {},
   "outputs": [
    {
     "name": "stdout",
     "output_type": "stream",
     "text": [
      "Area of cold wall 0.144716 m^2\n"
     ]
    }
   ],
   "source": [
    "Aw=Ngrooves*(wprime+2*depth)*Lprime\n",
    "print('Area of cold wall %f m^2'%Aw)"
   ]
  },
  {
   "cell_type": "markdown",
   "metadata": {},
   "source": [
    "The number of transfer units is found from Equation 6.41 of Barron:\n",
    "\n",
    "\\begin{equation}Ntu = \\frac{A_w h_c}{\\dot{m} C_p}\n",
    "\\end{equation}"
   ]
  },
  {
   "cell_type": "code",
   "execution_count": 45,
   "metadata": {},
   "outputs": [
    {
     "name": "stdout",
     "output_type": "stream",
     "text": [
      "The number of transfer units is 2.043092\n",
      "\n"
     ]
    }
   ],
   "source": [
    "Ntu=hc*Aw/(mdot*Cp)\n",
    "print('The number of transfer units is %f'%Ntu)\n",
    "print()"
   ]
  },
  {
   "cell_type": "markdown",
   "metadata": {},
   "source": [
    "Given the inlet temperature $T_1=T_{\\rm in}$ and the wall temperature $T_w$, the outlet temperature $T_2$ can be calculated from the number of transfer units $Ntu$ using Equation 6.42 of Barron as:\n",
    "\\begin{equation}\n",
    "T_2=T_1-(T_1-T_w)(1-e^{-Ntu}).\n",
    "\\end{equation}\n",
    "\n",
    "\n",
    "The total heat transfer rate may then be found using Equation 6.43 of Barron:\n",
    "\\begin{equation}\n",
    "Q = \\dot{m}C_p(T1-T2).\n",
    "\\end{equation}"
   ]
  },
  {
   "cell_type": "code",
   "execution_count": 46,
   "metadata": {},
   "outputs": [
    {
     "name": "stdout",
     "output_type": "stream",
     "text": [
      "For inlet temperature 23.400000 K and wall temperature 20.700000 K\n",
      "the outlet temperature is 21.049994 K\n",
      "and the total heat transfer rate is 61.714930 W\n",
      "\n"
     ]
    }
   ],
   "source": [
    "T1=Tin\n",
    "T2=T1-(T1-Tw)*(1-exp(-Ntu))\n",
    "T2=Tw+(T1-Tw)*exp(-Ntu)\n",
    "\n",
    "Qtotal=mdot*Cp*(T1-T2) # Eq. (6.43) of Barron\n",
    "\n",
    "print('For inlet temperature %f K and wall temperature %f K'%(T1,Tw))\n",
    "print('the outlet temperature is %f K'%T2)\n",
    "print('and the total heat transfer rate is %f W'%Qtotal)\n",
    "print()"
   ]
  },
  {
   "cell_type": "code",
   "execution_count": null,
   "metadata": {},
   "outputs": [],
   "source": []
  }
 ],
 "metadata": {
  "kernelspec": {
   "display_name": "Python 3",
   "language": "python",
   "name": "python3"
  },
  "language_info": {
   "codemirror_mode": {
    "name": "ipython",
    "version": 3
   },
   "file_extension": ".py",
   "mimetype": "text/x-python",
   "name": "python",
   "nbconvert_exporter": "python",
   "pygments_lexer": "ipython3",
   "version": "3.7.6"
  }
 },
 "nbformat": 4,
 "nbformat_minor": 2
}
