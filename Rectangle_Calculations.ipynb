{
 "cells": [
  {
   "cell_type": "markdown",
   "metadata": {},
   "source": [
    "To verify that our calculations were somewhat correct, the HEX was simulated as many rectangular channels running in parallel."
   ]
  },
  {
   "cell_type": "code",
   "execution_count": 35,
   "metadata": {},
   "outputs": [],
   "source": [
    "#!/usr/bin/python3\n",
    "from math import *\n",
    "import matplotlib.pyplot as plt\n",
    "import matplotlib.patches as patches\n",
    "\n",
    "d2=4.76*0.0254 # (m) inner diameter of the outer tubular housing\n",
    "d1=4.75*0.0254 # (m) diameter of the inner cold cylinder before\n",
    "               # cutting any grooves\n",
    "groove_depth=0.1*0.0254 # m\n",
    "groove_width=0.06*0.0254 # m\n",
    "n=ngrooves=124\n",
    "r=d1/2\n",
    "w=groove_width\n",
    "d=groove_depth\n",
    "mdot=0.004\n",
    "mu=3.5e-5 # Pa*s\n",
    "kt=0.104 # W/(m*K)\n",
    "p_psi=20. # PSI\n",
    "p=p_psi*6894.76 # Pa\n",
    "rho=168\n",
    "Tin=23.4 # (K) inlet temp\n",
    "Tw=20.7 # (K) temperature of cold wall\n",
    "Ts=(Tw+Tin)/2 # (K) temperature of film, with which we will exchange heat.\n",
    "T1=T=Tin\n",
    "Cp=5841.605609\n",
    "L=10.*0.0254 # (m) length of tube(s)"
   ]
  },
  {
   "cell_type": "code",
   "execution_count": 37,
   "metadata": {},
   "outputs": [
    {
     "name": "stdout",
     "output_type": "stream",
     "text": [
      "The hydraulic diameter for one rectangular channel is 0.001905 m.\n",
      "The flow area for all the rectangular channels is 0.000480 m^2.\n",
      "The hydraulic diameter for all the rectangular channels is 0.001905 m.\n"
     ]
    }
   ],
   "source": [
    "Af=w*d # (m^2)\n",
    "Pf=2*w + 2*d # (m)\n",
    "Dh=4*Af/Pf # (m)\n",
    "print('The hydraulic diameter for one rectangular channel is %f m.' %Dh)\n",
    "#all\n",
    "Afall=d*(n*w) # (m^2)\n",
    "#Pfall=2*d + 2*n*w # (m)\n",
    "Pfall=2*n*d + 2*n*w # (m) # Jeff edited\n",
    "Dhall=4*Afall/Pfall # (m)\n",
    "print('The flow area for all the rectangular channels is %f m^2.' %Afall)\n",
    "print('The hydraulic diameter for all the rectangular channels is %f m.' %Dhall)"
   ]
  },
  {
   "cell_type": "markdown",
   "metadata": {},
   "source": [
    "The Reynolds Number is found from:\n",
    "\n",
    "\\begin{equation}\n",
    "Re = \\frac{D_hG}{\\mu}\n",
    "\\end{equation}"
   ]
  },
  {
   "cell_type": "code",
   "execution_count": 38,
   "metadata": {},
   "outputs": [
    {
     "name": "stdout",
     "output_type": "stream",
     "text": [
      "The Reynolds number for the rectangles is 453.572336\n"
     ]
    }
   ],
   "source": [
    "#Mass flux\n",
    "Grect=mdot/Afall\n",
    "Rerect=Dhall*Grect/mu # should be dimensionless\n",
    "print('The Reynolds number for the rectangles is %f'%Rerect) #still laminar!                                                               #albeit larger than                                                           #the cylinder"
   ]
  },
  {
   "cell_type": "markdown",
   "metadata": {},
   "source": [
    "The heat transfer coefficient is found from:\n",
    "\n",
    "\\begin{equation}\n",
    "hc = \\frac{Nuk_t}{D_h}\n",
    "\\end{equation}"
   ]
  },
  {
   "cell_type": "code",
   "execution_count": 39,
   "metadata": {},
   "outputs": [
    {
     "name": "stdout",
     "output_type": "stream",
     "text": [
      "The b/a is 0.600000.\n",
      "The friction factor is 0.132151.\n",
      "The hc of the rectangles is 174.971129 W/(m^2*K)\n"
     ]
    }
   ],
   "source": [
    "ba=w/d #dimentionless\n",
    "print('The b/a is %f.' %ba) # b/c 0.600 I am using C1, C2, from Table 6.2\n",
    "fRerect=C1=59.94\n",
    "frect=fRerect/Rerect\n",
    "print('The friction factor is %f.'%frect)\n",
    "Nurect=C2=3.205\n",
    "hcrect=(Nurect*kt)/Dhall # W/(m^2*K)\n",
    "print('The hc of the rectangles is %f W/(m^2*K)' %hcrect)"
   ]
  },
  {
   "cell_type": "markdown",
   "metadata": {},
   "source": [
    "The number of transfer units is found from:\n",
    "\n",
    "\\begin{equation}\n",
    "Ntu = \\frac{hcA_w}{\\dot{m}C_p}\n",
    "\\end{equation}"
   ]
  },
  {
   "cell_type": "code",
   "execution_count": 33,
   "metadata": {},
   "outputs": [
    {
     "name": "stdout",
     "output_type": "stream",
     "text": [
      "Wetted area of duct is 0.255999\n",
      "Area for heat transfer is 0.208000\n",
      "The transfer units is 1.557531\n"
     ]
    }
   ],
   "source": [
    "#Wetted area of duct\n",
    "#Awrect = 2*(w + d)*L # (m^2)\n",
    "Aw_wet=(2*n*w+2*n*d)*L # (m^2) # Jeff edited # entire wetted wall area -- for friction losses\n",
    "Aw_heat=(n*w+2*n*d)*L # (m^2) # Jeff edited # area for heat transfer\n",
    "print('Wetted area of duct is %f' %Aw_wet)\n",
    "print('Area for heat transfer is %f' %Aw_heat)\n",
    "#transfer units\n",
    "Nturect=(hcrect*Aw_heat)/(mdot*Cp)\n",
    "print('The transfer units is %f' %Nturect)"
   ]
  },
  {
   "cell_type": "markdown",
   "metadata": {},
   "source": [
    "The pressure drop is found from:\n",
    "\n",
    "\\begin{equation}\n",
    "\\Delta P = \\frac{fLG^2}{2D_h\\rho} \\\\\n",
    "\\end{equation}"
   ]
  },
  {
   "cell_type": "code",
   "execution_count": 40,
   "metadata": {},
   "outputs": [
    {
     "name": "stdout",
     "output_type": "stream",
     "text": [
      "The heat transfer is 49.799219 W\n",
      "The pressure drop is 3.641740 Pa.\n"
     ]
    }
   ],
   "source": [
    "#heat transfer\n",
    "Qrect=mdot*Cp*(T1 - Tw)*(1 - exp(-Nturect)) #W\n",
    "print('The heat transfer is %f W' %Qrect)\n",
    "#pressure drop\n",
    "dprect=(frect*L*Grect**2)/(Dhall*2*rho) #Pa\n",
    "print('The pressure drop is %f Pa.' %dprect)"
   ]
  },
  {
   "cell_type": "code",
   "execution_count": null,
   "metadata": {},
   "outputs": [],
   "source": []
  }
 ],
 "metadata": {
  "kernelspec": {
   "display_name": "Python 3",
   "language": "python",
   "name": "python3"
  },
  "language_info": {
   "codemirror_mode": {
    "name": "ipython",
    "version": 3
   },
   "file_extension": ".py",
   "mimetype": "text/x-python",
   "name": "python",
   "nbconvert_exporter": "python",
   "pygments_lexer": "ipython3",
   "version": "3.7.4"
  }
 },
 "nbformat": 4,
 "nbformat_minor": 2
}
