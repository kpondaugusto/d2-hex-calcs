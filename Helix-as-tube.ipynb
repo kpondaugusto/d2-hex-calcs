{
 "cells": [
  {
   "cell_type": "markdown",
   "metadata": {},
   "source": [
    "# UCN LD2 Calculations: Helical Groove as a Straight Tube\n",
    "\n",
    "K. Augusto, J. Martin\n",
    "\n",
    "June 9/20"
   ]
  },
  {
   "cell_type": "code",
   "execution_count": 4,
   "metadata": {},
   "outputs": [],
   "source": [
    "#!/usr/bin/python3\n",
    "\n",
    "from math import *\n",
    "\n",
    "from mpl_toolkits import mplot3d\n",
    "\n",
    "from mpl_toolkits import mplot3d\n",
    "import matplotlib.pyplot as plt\n",
    "import matplotlib.patches as patches\n",
    "import numpy as np\n",
    "from numpy import *"
   ]
  },
  {
   "cell_type": "code",
   "execution_count": 34,
   "metadata": {},
   "outputs": [],
   "source": [
    "p_psi=20. # PSI\n",
    "p=p_psi*6894.76 # Pa\n",
    "kt=0.104 # W/(m*K) a\n",
    "T=Tin=23.4 # (K) inlet temp\n",
    "Tw=20.7 # (K) temperature of cold wall\n",
    "mdot=0.004 # kg/s\n",
    "mu=3.5e-5 # Pa*s\n",
    "L=10*0.0254 #m length of tube\n",
    "rho=163.0 # kg/m^3\n",
    "Cp=6565.4 # J/(kg*K)\n",
    "Ngrooves=1 # number of grooves where it was found that the optimal groove is 1\n",
    "D=4.76*0.0254 #m diameter of tube, 0.015949 from optimizing dp in backwards-hex-turbulent-tube.py\n",
    "wprime= 0.015 #m width of groove\n",
    "uprime= 0.01 # m width between grooves\n",
    "depth=0.015 # m depth of groove"
   ]
  },
  {
   "cell_type": "markdown",
   "metadata": {},
   "source": [
    "To find the pitch angle:\n",
    "\n",
    "\\begin{equation}\n",
    "\\alpha = \\arcsin{(\\frac{N(w'+u')}{\\pi D}}\n",
    "\\end{equation}\n",
    "\n",
    "where w' is the width of the groove, u' is the width between the grooves, N is the number of grooves, and D is the diameter of the Copper tube where the helical grooves are cut."
   ]
  },
  {
   "cell_type": "code",
   "execution_count": 35,
   "metadata": {},
   "outputs": [
    {
     "name": "stdout",
     "output_type": "stream",
     "text": [
      "The pitch angle is 0.065866\n"
     ]
    }
   ],
   "source": [
    "sinalpha=(Ngrooves*(wprime + uprime))/(pi*D) #pitch angle\n",
    "alpha=arcsin(sinalpha)\n",
    "print('The pitch angle is %f' %alpha)"
   ]
  },
  {
   "cell_type": "code",
   "execution_count": 33,
   "metadata": {},
   "outputs": [
    {
     "name": "stdout",
     "output_type": "stream",
     "text": [
      "The length of the groove is 3.859084 m.\n",
      "Coiling around a Cu rod of diameter 0.120904 m would require approximately 10.160000 turns\n",
      "Coiling around a Cu rod of diameter 0.120904 m would require 10.137969 turns\n"
     ]
    }
   ],
   "source": [
    "Lprime=L/sinalpha #m length of wound groove\n",
    "print('The length of the groove is %f m.' %Lprime)\n",
    "\n",
    "appturns=Lprime/(pi*D)\n",
    "print('Coiling around a Cu rod of diameter %f m would require approximately %f turns'%(D,appturns))\n",
    "\n",
    "turns=L/(tan(alpha)*pi*D)\n",
    "print('Coiling around a Cu rod of diameter %f m would require %f turns'%(D,turns))"
   ]
  },
  {
   "cell_type": "markdown",
   "metadata": {},
   "source": [
    "The flow area of the helical fin is found from:\n",
    "\n",
    "\\begin{equation}\n",
    "A = Nw'depth\n",
    "\\end{equation}\n",
    "\n",
    "The flow perimeter of the helical fin is found from:\n",
    "\n",
    "\\begin{equation}\n",
    "P = 2N(depth + w')\n",
    "\\end{equation}"
   ]
  },
  {
   "cell_type": "code",
   "execution_count": 7,
   "metadata": {},
   "outputs": [
    {
     "name": "stdout",
     "output_type": "stream",
     "text": [
      "The area of the helical fins is 0.000225 m^2.\n",
      "The perimeter of the helical grooves is 0.060000 m.\n"
     ]
    }
   ],
   "source": [
    "w=wprime*tan(alpha) # m\n",
    "\n",
    "ahelix=Ngrooves*wprime*depth # m^2 area of one helical groove/fin thing\n",
    "\n",
    "print('The area of the helical fins is %f m^2.'%ahelix)\n",
    "\n",
    "phelix=Ngrooves*(2*depth+2*wprime) #m\n",
    "\n",
    "print('The perimeter of the helical grooves is %f m.' %phelix)"
   ]
  },
  {
   "cell_type": "markdown",
   "metadata": {},
   "source": [
    "The hydraluic diameter is found from:\n",
    "\n",
    "\\begin{equation}\n",
    "D_h = \\frac{4A}{P}\n",
    "\\end{equation}\n",
    "\n",
    "The Mass flux per unit area is found from:\n",
    "\n",
    "\\begin{equation}\n",
    "G = \\frac{\\dot{m}}{A}\n",
    "\\end{equation}"
   ]
  },
  {
   "cell_type": "code",
   "execution_count": 37,
   "metadata": {},
   "outputs": [
    {
     "name": "stdout",
     "output_type": "stream",
     "text": [
      "Hydraulic diameter 0.015000 m\n",
      "Mass flux per unit area is 17.777778 kg/(m^2*s)\n"
     ]
    }
   ],
   "source": [
    "Dh=4*ahelix/phelix #m\n",
    "print('Hydraulic diameter %f m'%Dh)\n",
    "G=mdot/ahelix # (kg/(m^2*s)) mass flow rate per unit area\n",
    "print('Mass flux per unit area is %f kg/(m^2*s)'%G)"
   ]
  },
  {
   "cell_type": "markdown",
   "metadata": {},
   "source": [
    "The Reynolds Number is found from:\n",
    "\n",
    "\\begin{equation}\n",
    "Re = \\frac{D_hG}{\\mu}\n",
    "\\end{equation}"
   ]
  },
  {
   "cell_type": "code",
   "execution_count": 9,
   "metadata": {},
   "outputs": [
    {
     "name": "stdout",
     "output_type": "stream",
     "text": [
      "The Reynolds number is 7619.047619\n"
     ]
    }
   ],
   "source": [
    "Re=Dh*G/mu # should be dimensionless\n",
    "print('The Reynolds number is %f'%Re)"
   ]
  },
  {
   "cell_type": "markdown",
   "metadata": {},
   "source": [
    "The friction factor is found from:\n",
    "\n",
    "\\begin{equation}\n",
    "f = 0.316Re^{(-1/4)}\n",
    "\\end{equation}"
   ]
  },
  {
   "cell_type": "code",
   "execution_count": 10,
   "metadata": {},
   "outputs": [
    {
     "name": "stdout",
     "output_type": "stream",
     "text": [
      "The turbulent friction factor is 0.033823.\n"
     ]
    }
   ],
   "source": [
    "fRe=24.00*4\n",
    "\n",
    "if Re < 2300 :\n",
    "    f=fRe/Re\n",
    "    #f=64/Re #assuming cicular tube\n",
    "    print('The laminar friction factor is %f.' %f)\n",
    "elif 3500 > Re > 2300 :\n",
    "    f=1.2036*Re**(-0.416) #from vijayan\n",
    "    print('The friction factor is in between laminar and turbulent')\n",
    "elif Re > 3500 :\n",
    "    f=0.316*Re**(-0.25)\n",
    "    print('The turbulent friction factor is %f.' %f)"
   ]
  },
  {
   "cell_type": "markdown",
   "metadata": {},
   "source": [
    "The Colburn factor is found from:\n",
    "\n",
    "\\begin{equation}\n",
    "jH = 0.023Re^{-1/5}B_1\n",
    "\\end{equation}"
   ]
  },
  {
   "cell_type": "code",
   "execution_count": 11,
   "metadata": {},
   "outputs": [
    {
     "name": "stdout",
     "output_type": "stream",
     "text": [
      "This is B1 1.174891.\n",
      "The Colburn factor for the turbulent flow is 0.004522.\n"
     ]
    }
   ],
   "source": [
    "B1=1.174*((3.7e-5)/(3.68e-5))**(0.14) #viscosity taken from cams sheets\n",
    "print('This is B1 %f.' %B1)\n",
    "\n",
    "\n",
    "if Re < 3500 :\n",
    "    print('It is laminar or in between')\n",
    "elif Re > 3500 :\n",
    "    jh=0.023*Re**(-0.2)*B1\n",
    "    print('The Colburn factor for the turbulent flow is %f.' %jh)"
   ]
  },
  {
   "cell_type": "markdown",
   "metadata": {},
   "source": [
    "The Prandelt Number is found from:\n",
    "\n",
    "\\begin{equation}\n",
    "Pr = \\frac{\\mu C_p}{k_t}\n",
    "\\end{equation}"
   ]
  },
  {
   "cell_type": "markdown",
   "metadata": {},
   "source": [
    "The Nusselt Number is found from:\n",
    "\n",
    "\\begin{equation}\n",
    "Nu = jHRePr^{1/3}\n",
    "\\end{equation}"
   ]
  },
  {
   "cell_type": "code",
   "execution_count": 22,
   "metadata": {},
   "outputs": [
    {
     "name": "stdout",
     "output_type": "stream",
     "text": [
      "The Prandtl Number is 2.209510.\n",
      "This is the turbulent Nusselt Number 44.875710.\n"
     ]
    }
   ],
   "source": [
    "Pr=(mu*Cp)/(kt) # yes still dimensionless\n",
    "               # because (Pa*s)*(J/(kg*K))/(W/(m*K))\n",
    "               # =((kg*m/(s^2*m^2))*s)*(W*s/(kg*K))*((m*K)/W) = 1\n",
    "\n",
    "print('The Prandtl Number is %f.'%Pr)\n",
    "\n",
    "#If turb\n",
    "\n",
    "if Re < 3500 :\n",
    "    Nu=4.8608\n",
    "    print('Nu=4.8608 because the flow is laminar')\n",
    "elif Re > 3500 :\n",
    "    Nuturb=jh*Re*Pr**(1./3.)\n",
    "    print('This is the turbulent Nusselt Number %f.' %Nuturb)"
   ]
  },
  {
   "cell_type": "markdown",
   "metadata": {},
   "source": [
    "The heat transfer coefficient is found from:\n",
    "\n",
    "\\begin{equation}\n",
    "hc = \\frac{Nuk_t}{D_h}\n",
    "\\end{equation}"
   ]
  },
  {
   "cell_type": "code",
   "execution_count": 23,
   "metadata": {},
   "outputs": [
    {
     "name": "stdout",
     "output_type": "stream",
     "text": [
      "The heat transfer coefficient for turbulent flow is 311.138253 W/(m^2*K)\n"
     ]
    }
   ],
   "source": [
    "if Re < 3500 :\n",
    "    hc=Nu*kt/Dh \n",
    "    print('The heat transfer coefficient for laminar flow is %f W/(m^2*K)'%hc)\n",
    "elif Re > 3500 :\n",
    "    hc=Nuturb*kt/Dh \n",
    "    print('The heat transfer coefficient for turbulent flow is %f W/(m^2*K)'%hc)"
   ]
  },
  {
   "cell_type": "markdown",
   "metadata": {},
   "source": [
    "The pressure drop is found from:\n",
    "\n",
    "\\begin{equation}\n",
    "\\Delta P = \\frac{fL'G^2}{2D_h\\rho} \\\\\n",
    "\\end{equation}"
   ]
  },
  {
   "cell_type": "code",
   "execution_count": 24,
   "metadata": {},
   "outputs": [
    {
     "name": "stdout",
     "output_type": "stream",
     "text": [
      "The pressure drop is 8.436110 Pa\n"
     ]
    }
   ],
   "source": [
    "dp=(f*Lprime*G**2)/(Dh*2*rho) # (Pa) pressure drop\n",
    "\n",
    "print('The pressure drop is %f Pa'%dp)"
   ]
  },
  {
   "cell_type": "markdown",
   "metadata": {},
   "source": [
    "The area of the wall transfering heat is found from:\n",
    "\n",
    "\\begin{equation}\n",
    "A_w = NL'(w' + 2depth)\n",
    "\\end{equation}"
   ]
  },
  {
   "cell_type": "code",
   "execution_count": 25,
   "metadata": {},
   "outputs": [
    {
     "name": "stdout",
     "output_type": "stream",
     "text": [
      "Area of cold wall 0.173659 m^2\n"
     ]
    }
   ],
   "source": [
    "Aw=Ngrooves*(wprime+2*depth)*Lprime\n",
    "print('Area of cold wall %f m^2'%Aw)"
   ]
  },
  {
   "cell_type": "markdown",
   "metadata": {},
   "source": [
    "The number of transfer units is found from:\n",
    "\n",
    "\\begin{equation}\n",
    "Ntu = \\frac{A_w hc}{\\dot{m} C_p}\n",
    "\\end{equation}"
   ]
  },
  {
   "cell_type": "code",
   "execution_count": 26,
   "metadata": {},
   "outputs": [
    {
     "name": "stdout",
     "output_type": "stream",
     "text": [
      "The number of transfer units is 2.057449\n",
      "\n"
     ]
    }
   ],
   "source": [
    "Ntu=hc*Aw/(mdot*Cp)\n",
    "print('The number of transfer units is %f'%Ntu)\n",
    "print()"
   ]
  },
  {
   "cell_type": "markdown",
   "metadata": {},
   "source": [
    "The total heat transfer is found from:\n",
    "\n",
    "\\begin{equation}\n",
    "Q = \\dot{m}C_p(T1-T2)\n",
    "\\end{equation}"
   ]
  },
  {
   "cell_type": "code",
   "execution_count": 27,
   "metadata": {},
   "outputs": [
    {
     "name": "stdout",
     "output_type": "stream",
     "text": [
      "For inlet temperature 23.400000 K and wall temperature 20.700000 K\n",
      "the outlet temperature is 21.045005 K\n",
      "and the total heat transfer rate is 61.845941 W\n",
      "\n"
     ]
    }
   ],
   "source": [
    "T1=Tin\n",
    "T2=T1-(T1-Tw)*(1-exp(-Ntu))\n",
    "T2=Tw+(T1-Tw)*exp(-Ntu)\n",
    "\n",
    "Qtotal=mdot*Cp*(T1-T2) # Eq. (6.43) of Barron\n",
    "\n",
    "print('For inlet temperature %f K and wall temperature %f K'%(T1,Tw))\n",
    "print('the outlet temperature is %f K'%T2)\n",
    "print('and the total heat transfer rate is %f W'%Qtotal)\n",
    "print()"
   ]
  },
  {
   "cell_type": "code",
   "execution_count": 40,
   "metadata": {},
   "outputs": [],
   "source": [
    "def hc(n,a1):\n",
    "\n",
    "    value=(Pr**(1./3.)*B1*0.023*(mdot*2)**(0.8)*kt*(wprime+depth))/((mu*(wprime+depth)*n)**(0.8)*a1*2)\n",
    "\n",
    "    return value\n",
    "\n",
    "n = np.arange(1,50,1)\n",
    "\n",
    "a1 = np.arange(0.0001,0.001,0.0001)"
   ]
  },
  {
   "cell_type": "markdown",
   "metadata": {},
   "source": [
    "To confirm that 1 groove is the optimal number of grooves, the following graphs were plotted:"
   ]
  },
  {
   "cell_type": "code",
   "execution_count": 41,
   "metadata": {},
   "outputs": [
    {
     "data": {
      "image/png": "[encoded data removed]",
      "text/plain": [
       "<Figure size 432x288 with 1 Axes>"
      ]
     },
     "metadata": {
      "needs_background": "light"
     },
     "output_type": "display_data"
    }
   ],
   "source": [
    "plt.plot(n, hc(n,wprime*depth))\n",
    "plt.title('hc as a Function of the Number of Grooves')\n",
    "plt.xlabel('Number of Grooves')\n",
    "plt.ylabel('hc')\n",
    "plt.show()"
   ]
  },
  {
   "cell_type": "code",
   "execution_count": 44,
   "metadata": {},
   "outputs": [
    {
     "data": {
      "image/png": "[encoded data removed]",
      "text/plain": [
       "<Figure size 432x288 with 1 Axes>"
      ]
     },
     "metadata": {
      "needs_background": "light"
     },
     "output_type": "display_data"
    }
   ],
   "source": [
    "dp = []\n",
    "\n",
    "for i in range(len(n)):\n",
    "\n",
    "    value=(0.316*mdot**(7/4)*L*pi*D*(wprime + depth)**(5/4)*mu**(1/4)*2**(3/4))/(8*(wprime+uprime)*(wprime*depth)**(3)*rho*n[i]**(11/4))\n",
    "    \n",
    "    dp.append(value)\n",
    "\n",
    "plt.plot(n, dp)\n",
    "plt.title('Pressure Drop as a function of Number of Grooves')\n",
    "plt.xlabel('Number of Grooves')\n",
    "plt.ylabel('Pressure Drop')\n",
    "plt.show()"
   ]
  },
  {
   "cell_type": "code",
   "execution_count": null,
   "metadata": {},
   "outputs": [],
   "source": []
  }
 ],
 "metadata": {
  "kernelspec": {
   "display_name": "Python 3",
   "language": "python",
   "name": "python3"
  },
  "language_info": {
   "codemirror_mode": {
    "name": "ipython",
    "version": 3
   },
   "file_extension": ".py",
   "mimetype": "text/x-python",
   "name": "python",
   "nbconvert_exporter": "python",
   "pygments_lexer": "ipython3",
   "version": "3.7.6"
  }
 },
 "nbformat": 4,
 "nbformat_minor": 2
}
