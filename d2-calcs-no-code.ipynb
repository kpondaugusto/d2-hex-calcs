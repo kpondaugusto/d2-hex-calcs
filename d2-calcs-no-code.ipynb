{
 "cells": [
  {
   "cell_type": "markdown",
   "metadata": {},
   "source": [
    "# UCN LD2 Calculation Checks\n",
    "\n",
    "J. Martin, K. Augusto\n",
    "\n",
    "May 19/20"
   ]
  },
  {
   "cell_type": "markdown",
   "metadata": {},
   "source": [
    "Heat Exchanger Parameters:"
   ]
  },
  {
   "cell_type": "markdown",
   "metadata": {},
   "source": [
    "The inlet temperature=T$_{in}$=T$_1$=23.400000 K \n",
    "\n",
    "The wall temperature=T$_w$=20.700000 K\n",
    "\n",
    "The inner diameter of the outer tubular housing=d2=0.120904 m \n",
    "\n",
    "The diameter of the inner cold cylinder before cutting any grooves=d1=0.120650 m\n",
    "\n",
    "There are 124 grooves=n, where the groove depth=d=0.002540 m and the goove width=w=0.001524 m. \n",
    "\n",
    "The length of the inner U of a groove is 0.006604 m.\n",
    "\n",
    "The length of an arc between two grooves is 0.001533 m.\n",
    "\n",
    "Additional area cut out by each groove 0.000005 m$^2$.\n",
    "\n",
    "The length of tubes=L=0.254000 m\n",
    "\n",
    "The area of cold wall=A$_w$=0.095629 m$^2$"
   ]
  },
  {
   "cell_type": "markdown",
   "metadata": {},
   "source": [
    "The outlet temperature is\n",
    "\n",
    "\\begin{equation}\n",
    "T_2 = T_1 - (T_1 - T_w)(1-\\exp(-Ntu)) = 20.770859 K\n",
    "\\end{equation}"
   ]
  },
  {
   "cell_type": "markdown",
   "metadata": {},
   "source": [
    "The length around all the fins and grooves is\n",
    "\n",
    "\\begin{equation}\n",
    "P_{total} = n((2d+w)+\\theta - 2d\\alpha \\pi/180r) = 0.376491 m.\n",
    "\\end{equation}"
   ]
  },
  {
   "cell_type": "markdown",
   "metadata": {},
   "source": [
    "The annulus is found by\n",
    "\n",
    "\\begin{equation}\n",
    "A_n = \\frac{\\pi(d_2^2-d_1^2)}{4} = 0.000048 m^2\n",
    "\\end{equation}"
   ]
  },
  {
   "cell_type": "markdown",
   "metadata": {},
   "source": [
    "Total area of all the grooves\n",
    "\n",
    "\\begin{equation}\n",
    "A_g = (dw + ((2*d\\alpha)/(2\\pi))\\pi r^2-2(0.5)(w/2)(r\\cos{d\\alpha}))n = 0.000628 m^2\n",
    "\\end{equation}"
   ]
  },
  {
   "cell_type": "markdown",
   "metadata": {},
   "source": [
    "The total flow area is\n",
    "\n",
    "\\begin{equation}\n",
    "A = A_n + A_g = 0.000677 m^2\n",
    "\\end{equation}"
   ]
  },
  {
   "cell_type": "markdown",
   "metadata": {},
   "source": [
    "The flow perimeter\n",
    "\n",
    "\\begin{equation}\n",
    "P = P_{total} + \\pi d_2 = 0.756322 m\n",
    "\\end{equation}"
   ]
  },
  {
   "cell_type": "markdown",
   "metadata": {},
   "source": [
    "The hydraulic diameter is found by \n",
    "\n",
    "\\begin{equation}\n",
    "D_h = \\frac{4A}{P} = 0.003579 m\n",
    "\\end{equation}"
   ]
  },
  {
   "cell_type": "markdown",
   "metadata": {},
   "source": [
    "The mass flow is\n",
    "\n",
    "\\begin{equation}\n",
    "\\dot{m} = 0.004 \\frac{kg}{s}\n",
    "\\end{equation}"
   ]
  },
  {
   "cell_type": "markdown",
   "metadata": {},
   "source": [
    "G is \n",
    "\n",
    "\\begin{equation}\n",
    "G = \\frac{\\dot{m}}{A} = 7.564393 \\frac{kg}{(m^2s)}\n",
    "\\end{equation}"
   ]
  },
  {
   "cell_type": "markdown",
   "metadata": {},
   "source": [
    "The Reynolds Number is found from:\n",
    "\n",
    "\\begin{equation}\n",
    "Re = \\frac{D_hG}{\\mu} = 329.168843\n",
    "\\end{equation}\n",
    "\n",
    "Where $\\mu = 3.5\\times10^{-5} s Pa$ is a constant"
   ]
  },
  {
   "cell_type": "markdown",
   "metadata": {},
   "source": [
    "The Prandelt Number is found from:\n",
    "\n",
    "\\begin{equation}\n",
    "Pr = \\frac{\\mu C_p}{k_t} = 1.965925\n",
    "\\end{equation}\n",
    "\n",
    "Where C$_p$ is 5841.605609 $\\frac{J}{kg K}$ and k$_t$ is k$_t$=0.104 $\\frac{W}{Km}$ are constansts"
   ]
  },
  {
   "cell_type": "markdown",
   "metadata": {},
   "source": [
    "The heat transfer coefficient is found from:\n",
    "\n",
    "\\begin{equation}\n",
    "hc = \\frac{Nuk_t}{D_h} = 331.916164 \\frac{W}{m^2K}\n",
    "\\end{equation}\n",
    "\n",
    "Where the Nusselt Number, Nu, is 4.8608 from literature"
   ]
  },
  {
   "cell_type": "markdown",
   "metadata": {},
   "source": [
    "The Ntu is found from:\n",
    "\n",
    "\\begin{equation}\n",
    "Ntu = \\frac{hcA_w}{\\dot{m}C_p} = 2.738772\n",
    "\\end{equation}"
   ]
  },
  {
   "cell_type": "markdown",
   "metadata": {},
   "source": [
    "The total heat transfer rate is found from:\n",
    "\n",
    "\\begin{equation}\n",
    "\\dot{Q} = \\dot{m}C_p(T_1 - T_2) = \\dot{m}C_p\\Delta T = 59.010636 W\n",
    "\\end{equation}"
   ]
  },
  {
   "cell_type": "markdown",
   "metadata": {},
   "source": [
    "The friction factor is found from:\n",
    "\n",
    "\\begin{equation}\n",
    "f = \\frac{fRe}{Re} = 0.291644\n",
    "\\end{equation}\n",
    "\n",
    "Where fRe is 96 from literature"
   ]
  },
  {
   "cell_type": "markdown",
   "metadata": {},
   "source": [
    "The pressure drop is found from:\n",
    "\n",
    "\\begin{equation}\n",
    "\\Delta P = \\frac{fLG^2}{2D_h\\rho} = 8.521685 Pa\n",
    "\\end{equation}\n",
    "\n",
    "Where $\\rho$ is 163.292488 $\\frac{kg}{m^3}$"
   ]
  },
  {
   "cell_type": "markdown",
   "metadata": {},
   "source": []
  }
 ],
 "metadata": {
  "kernelspec": {
   "display_name": "Python 3",
   "language": "python",
   "name": "python3"
  },
  "language_info": {
   "codemirror_mode": {
    "name": "ipython",
    "version": 3
   },
   "file_extension": ".py",
   "mimetype": "text/x-python",
   "name": "python",
   "nbconvert_exporter": "python",
   "pygments_lexer": "ipython3",
   "version": "3.7.4"
  }
 },
 "nbformat": 4,
 "nbformat_minor": 2
}
